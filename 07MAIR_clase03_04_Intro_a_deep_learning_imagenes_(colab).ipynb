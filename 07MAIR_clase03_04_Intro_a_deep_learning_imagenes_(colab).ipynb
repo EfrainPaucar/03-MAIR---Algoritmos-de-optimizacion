{
  "nbformat": 4,
  "nbformat_minor": 0,
  "metadata": {
    "colab": {
      "name": "07MAIR_clase03_04_Intro a deep learning_imagenes (colab).ipynb",
      "provenance": [],
      "collapsed_sections": [
        "kuu1G4TINHjV",
        "dURvF6XVNHjY",
        "XHYe9vDyNHj9",
        "D-PUyfU4NHkN",
        "ZKXydueTNHkP",
        "BBM-sSa8NHkc",
        "TEz9S4JxNHl9",
        "HJp-qx1cNHmg",
        "aBdd-qvdNHmv",
        "BjwW0XUHNHnM"
      ],
      "include_colab_link": true
    },
    "language_info": {
      "codemirror_mode": {
        "name": "ipython",
        "version": 3
      },
      "file_extension": ".py",
      "mimetype": "text/x-python",
      "name": "python",
      "nbconvert_exporter": "python",
      "pygments_lexer": "ipython3",
      "version": "3.6.5"
    },
    "kernelspec": {
      "name": "python3",
      "display_name": "Python 3"
    },
    "accelerator": "GPU"
  },
  "cells": [
    {
      "cell_type": "markdown",
      "metadata": {
        "id": "view-in-github",
        "colab_type": "text"
      },
      "source": [
        "<a href=\"https://colab.research.google.com/github/EfrainPaucar/03-MAIR---Algoritmos-de-optimizacion-2019/blob/master/07MAIR_clase03_04_Intro_a_deep_learning_imagenes_(colab).ipynb\" target=\"_parent\"><img src=\"https://colab.research.google.com/assets/colab-badge.svg\" alt=\"Open In Colab\"/></a>"
      ]
    },
    {
      "cell_type": "code",
      "metadata": {
        "id": "qRoU6uh8NM1W",
        "colab_type": "code",
        "outputId": "e399ba4b-fd7c-486a-a32a-ece8e6ec9c26",
        "colab": {
          "base_uri": "https://localhost:8080/",
          "height": 122
        }
      },
      "source": [
        "# SOLO PARA USO EN GOOGLE COLABORATORY\n",
        "# para conectar el notebook con la cuenta de gdrive\n",
        "from google.colab import drive\n",
        "drive.mount('/content/drive/')\n",
        "\n",
        "BASE_FOLDER = '/content/drive/My Drive/Master IA/Autores/07MAIR/Intro Deep learning/Recursos del profesor/'"
      ],
      "execution_count": 0,
      "outputs": [
        {
          "output_type": "stream",
          "text": [
            "Go to this URL in a browser: https://accounts.google.com/o/oauth2/auth?client_id=947318989803-6bn6qk8qdgf4n4g3pfee6491hc0brc4i.apps.googleusercontent.com&redirect_uri=urn%3Aietf%3Awg%3Aoauth%3A2.0%3Aoob&scope=email%20https%3A%2F%2Fwww.googleapis.com%2Fauth%2Fdocs.test%20https%3A%2F%2Fwww.googleapis.com%2Fauth%2Fdrive%20https%3A%2F%2Fwww.googleapis.com%2Fauth%2Fdrive.photos.readonly%20https%3A%2F%2Fwww.googleapis.com%2Fauth%2Fpeopleapi.readonly&response_type=code\n",
            "\n",
            "Enter your authorization code:\n",
            "··········\n",
            "Mounted at /content/drive/\n"
          ],
          "name": "stdout"
        }
      ]
    },
    {
      "cell_type": "markdown",
      "metadata": {
        "id": "F_xGbf7WNHiE",
        "colab_type": "text"
      },
      "source": [
        "# 07MAIR - Redes Neuronales y Deep Learning\n",
        "## Clase 03: Deep Learning y Deep vision\n",
        "\n",
        "\n",
        "### Profesores: Adrián Colomer Granero / Gabriel Muñoz Ríos\n",
        "### Autor: Carlos Fernández Musoles"
      ]
    },
    {
      "cell_type": "markdown",
      "metadata": {
        "id": "wdNuPHZZNHiI",
        "colab_type": "text"
      },
      "source": [
        "# Sumario\n",
        "- Intro deep learning\n",
        "- Redes convolucionales\n",
        "- Trabajar con pocos datos\n",
        "- Visualizacion de CNN"
      ]
    },
    {
      "cell_type": "markdown",
      "metadata": {
        "id": "1TN66pF-NHiK",
        "colab_type": "text"
      },
      "source": [
        "## Tensores\n",
        "- Dato multidimensional (escalar, vector, matriz, tensor)\n"
      ]
    },
    {
      "cell_type": "markdown",
      "metadata": {
        "id": "W9QRDfcRNHiR",
        "colab_type": "text"
      },
      "source": [
        "- Deep learning consiste en una serie de transformaciones (operaciones matemáticas con tensores) del input para dar output. \n",
        "\n",
        "\n",
        " - operacion mas importante: tensor dot (matmul)"
      ]
    },
    {
      "cell_type": "markdown",
      "metadata": {
        "id": "0P4BmwI9NHiU",
        "colab_type": "text"
      },
      "source": [
        "## Construir redes\n",
        "- Capas compatibles en las dimensiones output - input"
      ]
    },
    {
      "cell_type": "code",
      "metadata": {
        "id": "2v8QUVOzNHiX",
        "colab_type": "code",
        "outputId": "bd39ba4b-6a15-4b3d-adea-c8f4b4fc19e1",
        "colab": {
          "base_uri": "https://localhost:8080/",
          "height": 136
        }
      },
      "source": [
        "from keras import layers\n",
        "from keras import models\n",
        "\n",
        "model = models.Sequential()\n",
        "model.add(layers.Dense(64,                  # output 1D tensor con dimensiones (64)\n",
        "                       input_shape=(256,))) # input 2D tensor con dimensiones 256,ANY\n",
        "                                            # la sintaxis (256,) indica tuple con solo un numero\n",
        "model.add(layers.Dense(32))                 # (input asumido de la capa anterior) output 1D tensor con dimension (32)"
      ],
      "execution_count": 0,
      "outputs": [
        {
          "output_type": "stream",
          "text": [
            "Using TensorFlow backend.\n"
          ],
          "name": "stderr"
        },
        {
          "output_type": "stream",
          "text": [
            "WARNING:tensorflow:From /usr/local/lib/python3.6/dist-packages/keras/backend/tensorflow_backend.py:66: The name tf.get_default_graph is deprecated. Please use tf.compat.v1.get_default_graph instead.\n",
            "\n",
            "WARNING:tensorflow:From /usr/local/lib/python3.6/dist-packages/keras/backend/tensorflow_backend.py:541: The name tf.placeholder is deprecated. Please use tf.compat.v1.placeholder instead.\n",
            "\n",
            "WARNING:tensorflow:From /usr/local/lib/python3.6/dist-packages/keras/backend/tensorflow_backend.py:4432: The name tf.random_uniform is deprecated. Please use tf.random.uniform instead.\n",
            "\n"
          ],
          "name": "stdout"
        }
      ]
    },
    {
      "cell_type": "markdown",
      "metadata": {
        "id": "QIsQmbXmNHie",
        "colab_type": "text"
      },
      "source": [
        "## Tipos de capas\n",
        "- cada tipo de capa suele tener un uso\n",
        " - Dense para tratar input vector (2D tensor de samples,features)\n",
        " - LSTM para tratar secuencias (3D tensores de samples,timestep,features)\n",
        " - Convolucionales para tratar imagenes (4D tensores de samples,height,weight,channels)\n"
      ]
    },
    {
      "cell_type": "code",
      "metadata": {
        "id": "5LttOKWcNHig",
        "colab_type": "code",
        "outputId": "ee4932bb-5233-4737-da62-4ac516f16aca",
        "colab": {
          "base_uri": "https://localhost:8080/",
          "height": 221
        }
      },
      "source": [
        "# mostrar estructura del modelo\n",
        "model.summary()"
      ],
      "execution_count": 0,
      "outputs": [
        {
          "output_type": "stream",
          "text": [
            "Model: \"sequential_1\"\n",
            "_________________________________________________________________\n",
            "Layer (type)                 Output Shape              Param #   \n",
            "=================================================================\n",
            "dense_1 (Dense)              (None, 64)                16448     \n",
            "_________________________________________________________________\n",
            "dense_2 (Dense)              (None, 32)                2080      \n",
            "=================================================================\n",
            "Total params: 18,528\n",
            "Trainable params: 18,528\n",
            "Non-trainable params: 0\n",
            "_________________________________________________________________\n"
          ],
          "name": "stdout"
        }
      ]
    },
    {
      "cell_type": "markdown",
      "metadata": {
        "id": "_dblxZYeNHik",
        "colab_type": "text"
      },
      "source": [
        "## Estructura de la red neuronal\n",
        "- La mas habitual es feedforward, pero hay mas\n",
        "- Two-branch, multihead, inception\n",
        "- La arquitectura ideal es un arte!"
      ]
    },
    {
      "cell_type": "markdown",
      "metadata": {
        "id": "PRBau9kPNHin",
        "colab_type": "text"
      },
      "source": [
        "## Deep learning en vision computerizada\n",
        "- Redes convolucionales (CNN)\n",
        " - descripción\n",
        " - entrenamiento\n",
        "- Trabajar con pocos datos\n",
        " - data augmentation\n",
        " - redes pre-entrenadas\n",
        "- visualizando lo que aprenden las CNNs"
      ]
    },
    {
      "cell_type": "code",
      "metadata": {
        "id": "zGzZ11xaNHip",
        "colab_type": "code",
        "outputId": "51c22e13-1743-4eb8-95e2-d7f71662a65b",
        "colab": {
          "base_uri": "https://localhost:8080/",
          "height": 51
        }
      },
      "source": [
        "from keras.datasets import mnist\n",
        "\n",
        "(training_set,training_labels), (testing_set, testing_labels) = mnist.load_data()"
      ],
      "execution_count": 0,
      "outputs": [
        {
          "output_type": "stream",
          "text": [
            "Downloading data from https://s3.amazonaws.com/img-datasets/mnist.npz\n",
            "11493376/11490434 [==============================] - 0s 0us/step\n"
          ],
          "name": "stdout"
        }
      ]
    },
    {
      "cell_type": "code",
      "metadata": {
        "id": "1B9MfIqyNHiv",
        "colab_type": "code",
        "colab": {}
      },
      "source": [
        "# transformacion de los datos\n",
        "train_data = training_set.reshape((60000,28,28,1))\n",
        "train_data = train_data.astype('float32')/255\n",
        "test_data = testing_set.reshape((10000,28,28,1))\n",
        "test_data = test_data.astype('float32')/255\n",
        "\n",
        "from keras.utils import to_categorical\n",
        "train_labels = to_categorical(training_labels)\n",
        "test_labels = to_categorical(testing_labels)"
      ],
      "execution_count": 0,
      "outputs": []
    },
    {
      "cell_type": "code",
      "metadata": {
        "id": "gp3kAblVNHi0",
        "colab_type": "code",
        "outputId": "9e2aa515-10a5-4d98-da1d-37538fe1b3a7",
        "colab": {
          "base_uri": "https://localhost:8080/",
          "height": 51
        }
      },
      "source": [
        "#oconstruccion de una red CNN\n",
        "from keras import models\n",
        "from keras import layers\n",
        "\n",
        "convnet = models.Sequential()\n",
        "convnet.add(layers.Conv2D(32,(3,3),input_shape=(28,28,1),activation='relu'))\n",
        "convnet.add(layers.MaxPooling2D((2,2)))\n",
        "convnet.add(layers.Conv2D(64,(3,3),activation='relu'))\n",
        "convnet.add(layers.MaxPooling2D((2,2)))\n",
        "convnet.add(layers.Conv2D(64,(3,3),activation='relu'))\n",
        "convnet.add(layers.Flatten())\n",
        "convnet.add(layers.Dense(64,activation='relu'))\n",
        "convnet.add(layers.Dense(10,activation='softmax'))"
      ],
      "execution_count": 0,
      "outputs": [
        {
          "output_type": "stream",
          "text": [
            "WARNING:tensorflow:From /usr/local/lib/python3.6/dist-packages/keras/backend/tensorflow_backend.py:4267: The name tf.nn.max_pool is deprecated. Please use tf.nn.max_pool2d instead.\n",
            "\n"
          ],
          "name": "stdout"
        }
      ]
    },
    {
      "cell_type": "code",
      "metadata": {
        "id": "i1WwGZQwNHi7",
        "colab_type": "code",
        "outputId": "c618a87a-3ce1-4a97-a4ca-3672d2d9cde2",
        "colab": {
          "base_uri": "https://localhost:8080/",
          "height": 425
        }
      },
      "source": [
        "convnet.summary()"
      ],
      "execution_count": 0,
      "outputs": [
        {
          "output_type": "stream",
          "text": [
            "Model: \"sequential_2\"\n",
            "_________________________________________________________________\n",
            "Layer (type)                 Output Shape              Param #   \n",
            "=================================================================\n",
            "conv2d_1 (Conv2D)            (None, 26, 26, 32)        320       \n",
            "_________________________________________________________________\n",
            "max_pooling2d_1 (MaxPooling2 (None, 13, 13, 32)        0         \n",
            "_________________________________________________________________\n",
            "conv2d_2 (Conv2D)            (None, 11, 11, 64)        18496     \n",
            "_________________________________________________________________\n",
            "max_pooling2d_2 (MaxPooling2 (None, 5, 5, 64)          0         \n",
            "_________________________________________________________________\n",
            "conv2d_3 (Conv2D)            (None, 3, 3, 64)          36928     \n",
            "_________________________________________________________________\n",
            "flatten_1 (Flatten)          (None, 576)               0         \n",
            "_________________________________________________________________\n",
            "dense_3 (Dense)              (None, 64)                36928     \n",
            "_________________________________________________________________\n",
            "dense_4 (Dense)              (None, 10)                650       \n",
            "=================================================================\n",
            "Total params: 93,322\n",
            "Trainable params: 93,322\n",
            "Non-trainable params: 0\n",
            "_________________________________________________________________\n"
          ],
          "name": "stdout"
        }
      ]
    },
    {
      "cell_type": "code",
      "metadata": {
        "id": "KEZ4HAfGNHjB",
        "colab_type": "code",
        "colab": {}
      },
      "source": [
        "convnet.compile(optimizer='rmsprop',\n",
        "               loss='categorical_crossentropy',\n",
        "               metrics=['accuracy'])"
      ],
      "execution_count": 0,
      "outputs": []
    },
    {
      "cell_type": "code",
      "metadata": {
        "id": "myf0nixeNHjH",
        "colab_type": "code",
        "outputId": "1a8d83e3-8bb2-4a0d-ebef-ab53d5b27e71",
        "colab": {
          "base_uri": "https://localhost:8080/",
          "height": 294
        }
      },
      "source": [
        "history = convnet.fit(train_data,train_labels,epochs=5,batch_size=128,validation_split=0.2)"
      ],
      "execution_count": 0,
      "outputs": [
        {
          "output_type": "stream",
          "text": [
            "WARNING:tensorflow:From /usr/local/lib/python3.6/dist-packages/tensorflow/python/ops/math_ops.py:3066: to_int32 (from tensorflow.python.ops.math_ops) is deprecated and will be removed in a future version.\n",
            "Instructions for updating:\n",
            "Use tf.cast instead.\n",
            "Train on 48000 samples, validate on 12000 samples\n",
            "Epoch 1/5\n",
            "48000/48000 [==============================] - 6s 122us/step - loss: 0.2783 - acc: 0.9131 - val_loss: 0.0674 - val_acc: 0.9812\n",
            "Epoch 2/5\n",
            "48000/48000 [==============================] - 2s 42us/step - loss: 0.0621 - acc: 0.9803 - val_loss: 0.0602 - val_acc: 0.9830\n",
            "Epoch 3/5\n",
            "48000/48000 [==============================] - 2s 43us/step - loss: 0.0415 - acc: 0.9870 - val_loss: 0.0502 - val_acc: 0.9860\n",
            "Epoch 4/5\n",
            "48000/48000 [==============================] - 2s 42us/step - loss: 0.0313 - acc: 0.9902 - val_loss: 0.0399 - val_acc: 0.9879\n",
            "Epoch 5/5\n",
            "48000/48000 [==============================] - 2s 43us/step - loss: 0.0242 - acc: 0.9924 - val_loss: 0.0387 - val_acc: 0.9892\n"
          ],
          "name": "stdout"
        }
      ]
    },
    {
      "cell_type": "code",
      "metadata": {
        "id": "7JypGcWmNHjM",
        "colab_type": "code",
        "outputId": "0e46c447-030a-49f2-c3a6-54490e5e1efc",
        "colab": {
          "base_uri": "https://localhost:8080/",
          "height": 54
        }
      },
      "source": [
        "loss,accuracy = convnet.evaluate(test_data,test_labels)\n",
        "print('loss {} accuracy {}'.format(loss,accuracy))"
      ],
      "execution_count": 0,
      "outputs": [
        {
          "output_type": "stream",
          "text": [
            "10000/10000 [==============================] - 1s 52us/step\n",
            "loss 0.030650096729423967 accuracy 0.9908\n"
          ],
          "name": "stdout"
        }
      ]
    },
    {
      "cell_type": "code",
      "metadata": {
        "id": "LPsd_qdzNHjQ",
        "colab_type": "code",
        "outputId": "d2535f70-70a8-46f9-c41d-5dad21bbcabe",
        "colab": {
          "base_uri": "https://localhost:8080/",
          "height": 295
        }
      },
      "source": [
        "import numpy as np\n",
        "import matplotlib.pyplot as plt\n",
        "%matplotlib inline\n",
        "\n",
        "#plot accuracy\n",
        "epochs = np.arange(1,len(history.history['acc'])+1)\n",
        "plt.title('Accuracy over training')\n",
        "plt.xlabel('epoch')\n",
        "plt.ylabel('accuracy')\n",
        "plt.plot(epochs,history.history['acc'],'r',label='training accuracy')\n",
        "plt.plot(epochs,history.history['val_acc'],'b',label='validation accuracy')\n",
        "plt.legend(loc='best')\n",
        "plt.show()"
      ],
      "execution_count": 0,
      "outputs": [
        {
          "output_type": "display_data",
          "data": {
            "image/png": "[encoded data removed]",
            "text/plain": [
              "<Figure size 432x288 with 1 Axes>"
            ]
          },
          "metadata": {
            "tags": []
          }
        }
      ]
    },
    {
      "cell_type": "markdown",
      "metadata": {
        "id": "kuu1G4TINHjV",
        "colab_type": "text"
      },
      "source": [
        "## Convolución\n",
        "\n",
        "- Dense layers aprenden patrones globales (en toda la imagen) \n",
        "- Convoluciones detectan patrones locales (resistente a traslaciones)"
      ]
    },
    {
      "cell_type": "markdown",
      "metadata": {
        "id": "cwNlwOQFNHjX",
        "colab_type": "text"
      },
      "source": [
        "- Convoluciones permiten aprender jerarquías de patrones (patrones locales como lineas, curvas, etc. a circulos, rectangulos, a constelaciones)\n"
      ]
    },
    {
      "cell_type": "markdown",
      "metadata": {
        "id": "dURvF6XVNHjY",
        "colab_type": "text"
      },
      "source": [
        "### Cómo lo hacen"
      ]
    },
    {
      "cell_type": "markdown",
      "metadata": {
        "id": "rFfVe4lYNHjj",
        "colab_type": "text"
      },
      "source": [
        "- Divide el input (3D tensor) en parches y aplica una transformación (la misma en cada capa) a cada parche"
      ]
    },
    {
      "cell_type": "markdown",
      "metadata": {
        "id": "3C19m0B5NHjk",
        "colab_type": "text"
      },
      "source": [
        "- Output (3D tensor) es un mapa de features (cada una el resultado de aplicar la transformacion). Height x width x filtros. Cada capa es el resultado de aplicar un filtro a cada parche del input"
      ]
    },
    {
      "cell_type": "markdown",
      "metadata": {
        "id": "Sjs0NxjnNHjl",
        "colab_type": "text"
      },
      "source": [
        "- La convolucion desliza cada parche sobre el input, parando en cada posible posicion y aplicando la transformacion (función kernel)"
      ]
    },
    {
      "cell_type": "markdown",
      "metadata": {
        "id": "XHYe9vDyNHj9",
        "colab_type": "text"
      },
      "source": [
        "### Padding y striding\n",
        "- Sólo hay 9 formas de aplicar un parche 3x3 a un imagen de 5x5\n",
        "- Si se quiere aplicar a todos los pixeles --> padding (añadir filas y columnas para hacerlo posible)\n",
        "```python\n",
        "Conv2D(...,padding=<valor>): 'valid' sin padding, 'same' para igualar tamanyo input y output feature \n",
        "```"
      ]
    },
    {
      "cell_type": "markdown",
      "metadata": {
        "id": "grzKDG28NHkG",
        "colab_type": "text"
      },
      "source": [
        "- stride determina el salto entre ventana y ventana\n",
        "- poco habitual (efecto downsample)\n",
        "```python\n",
        "Conv2D(...,stride=<valor>): int, salto entre ventanas \n",
        "```"
      ]
    },
    {
      "cell_type": "markdown",
      "metadata": {
        "id": "D-PUyfU4NHkN",
        "colab_type": "text"
      },
      "source": [
        "### Pooling\n",
        "- Se usan para hacer downsampling thel input feature (reducir dimensionalidad)\n",
        "- Similar a convoluciones, pero no aplican un kernel sino que aplican funcion 'max' (o average)\n",
        "- Por defecto, tamaño 2x2 y stride 2\n"
      ]
    },
    {
      "cell_type": "markdown",
      "metadata": {
        "id": "ZKXydueTNHkP",
        "colab_type": "text"
      },
      "source": [
        "#### ¿Para qué?\n",
        "- Reducir el numero de parámetros \n",
        "- permite a ventanas posteriores aceptar input de areas más grandes en capas anteriores (mejora percepción)"
      ]
    },
    {
      "cell_type": "code",
      "metadata": {
        "id": "foUsz9W5NHkR",
        "colab_type": "code",
        "outputId": "a90e6efe-ebfc-4015-cf42-5670101e2d6b",
        "colab": {
          "base_uri": "https://localhost:8080/",
          "height": 403
        }
      },
      "source": [
        "# red sin pooling\n",
        "\n",
        "from keras import models\n",
        "from keras import layers\n",
        "\n",
        "convnet_nopooling = models.Sequential()\n",
        "convnet_nopooling.add(layers.Conv2D(32,(3,3),input_shape=(32,32,3),activation='relu'))\n",
        "convnet_nopooling.add(layers.Conv2D(32,(3,3),activation='relu'))\n",
        "convnet_nopooling.add(layers.Conv2D(64,(3,3),activation='relu'))\n",
        "convnet_nopooling.add(layers.Conv2D(64,(3,3),activation='relu'))\n",
        "convnet_nopooling.add(layers.Flatten())\n",
        "convnet_nopooling.add(layers.Dense(512,activation='relu'))\n",
        "convnet_nopooling.add(layers.Dense(10,activation='softmax'))\n",
        "\n",
        "convnet_nopooling.summary()"
      ],
      "execution_count": 0,
      "outputs": [
        {
          "output_type": "stream",
          "text": [
            "_________________________________________________________________\n",
            "Layer (type)                 Output Shape              Param #   \n",
            "=================================================================\n",
            "conv2d_4 (Conv2D)            (None, 30, 30, 32)        896       \n",
            "_________________________________________________________________\n",
            "conv2d_5 (Conv2D)            (None, 28, 28, 32)        9248      \n",
            "_________________________________________________________________\n",
            "conv2d_6 (Conv2D)            (None, 26, 26, 64)        18496     \n",
            "_________________________________________________________________\n",
            "conv2d_7 (Conv2D)            (None, 24, 24, 64)        36928     \n",
            "_________________________________________________________________\n",
            "flatten_2 (Flatten)          (None, 36864)             0         \n",
            "_________________________________________________________________\n",
            "dense_5 (Dense)              (None, 512)               18874880  \n",
            "_________________________________________________________________\n",
            "dense_6 (Dense)              (None, 10)                5130      \n",
            "=================================================================\n",
            "Total params: 18,945,578\n",
            "Trainable params: 18,945,578\n",
            "Non-trainable params: 0\n",
            "_________________________________________________________________\n"
          ],
          "name": "stdout"
        }
      ]
    },
    {
      "cell_type": "code",
      "metadata": {
        "id": "ptVkOuQTNHkW",
        "colab_type": "code",
        "outputId": "e94b909a-6cc0-4240-e261-9186e84b2a6c",
        "colab": {
          "base_uri": "https://localhost:8080/",
          "height": 476
        }
      },
      "source": [
        "# Red con pooling\n",
        "convnet_pooling = models.Sequential()\n",
        "convnet_pooling.add(layers.Conv2D(32,(3,3),input_shape=(32,32,3),activation='relu'))\n",
        "convnet_pooling.add(layers.Conv2D(32,(3,3),activation='relu'))\n",
        "convnet_pooling.add(layers.MaxPooling2D((2,2)))\n",
        "convnet_pooling.add(layers.Conv2D(64,(3,3),activation='relu'))\n",
        "convnet_pooling.add(layers.Conv2D(64,(3,3),activation='relu'))\n",
        "convnet_pooling.add(layers.MaxPooling2D((2,2)))\n",
        "convnet_pooling.add(layers.Flatten())\n",
        "convnet_pooling.add(layers.Dense(512,activation='relu'))\n",
        "convnet_pooling.add(layers.Dense(10,activation='softmax'))\n",
        "\n",
        "convnet_pooling.summary()"
      ],
      "execution_count": 0,
      "outputs": [
        {
          "output_type": "stream",
          "text": [
            "_________________________________________________________________\n",
            "Layer (type)                 Output Shape              Param #   \n",
            "=================================================================\n",
            "conv2d_8 (Conv2D)            (None, 30, 30, 32)        896       \n",
            "_________________________________________________________________\n",
            "conv2d_9 (Conv2D)            (None, 28, 28, 32)        9248      \n",
            "_________________________________________________________________\n",
            "max_pooling2d_3 (MaxPooling2 (None, 14, 14, 32)        0         \n",
            "_________________________________________________________________\n",
            "conv2d_10 (Conv2D)           (None, 12, 12, 64)        18496     \n",
            "_________________________________________________________________\n",
            "conv2d_11 (Conv2D)           (None, 10, 10, 64)        36928     \n",
            "_________________________________________________________________\n",
            "max_pooling2d_4 (MaxPooling2 (None, 5, 5, 64)          0         \n",
            "_________________________________________________________________\n",
            "flatten_3 (Flatten)          (None, 1600)              0         \n",
            "_________________________________________________________________\n",
            "dense_7 (Dense)              (None, 512)               819712    \n",
            "_________________________________________________________________\n",
            "dense_8 (Dense)              (None, 10)                5130      \n",
            "=================================================================\n",
            "Total params: 890,410\n",
            "Trainable params: 890,410\n",
            "Non-trainable params: 0\n",
            "_________________________________________________________________\n"
          ],
          "name": "stdout"
        }
      ]
    },
    {
      "cell_type": "markdown",
      "metadata": {
        "id": "BBM-sSa8NHkc",
        "colab_type": "text"
      },
      "source": [
        "### Parámetros de CNN\n",
        "- Tamañoo de los parches (habitualmente 3x3 o 5x5)\n",
        "- Depth (profundidad, número de filtros) del mapa de features del output (32 y 64 en el ejemplo)\n",
        "```python\n",
        "Conv2D(output_depth,(patch_height,patch_width))\n",
        "```"
      ]
    },
    {
      "cell_type": "markdown",
      "metadata": {
        "id": "7bLEw4NlNHke",
        "colab_type": "text"
      },
      "source": [
        "## Entrenando CNNs\n",
        "- Entrenar con pocos valores\n",
        "- Data augmentation para ayudar overfitting\n",
        "- CIFAR-10 imagenes http://www.cs.toronto.edu/~kriz/cifar.html\n"
      ]
    },
    {
      "cell_type": "code",
      "metadata": {
        "id": "yGcBHjSONHkf",
        "colab_type": "code",
        "outputId": "99cec70c-e653-466d-968a-df96338b1311",
        "colab": {
          "base_uri": "https://localhost:8080/",
          "height": 68
        }
      },
      "source": [
        "from keras.datasets import cifar10\n",
        "import numpy as np\n",
        "\n",
        "(train_data, train_labels), (test_data, test_labels) = cifar10.load_data()"
      ],
      "execution_count": 0,
      "outputs": [
        {
          "output_type": "stream",
          "text": [
            "Using TensorFlow backend.\n"
          ],
          "name": "stderr"
        },
        {
          "output_type": "stream",
          "text": [
            "Downloading data from https://www.cs.toronto.edu/~kriz/cifar-10-python.tar.gz\n",
            "170500096/170498071 [==============================] - 4s 0us/step\n"
          ],
          "name": "stdout"
        }
      ]
    },
    {
      "cell_type": "code",
      "metadata": {
        "id": "i_7stMIxNHkm",
        "colab_type": "code",
        "outputId": "bc351350-bd38-434d-dc22-04efe0248ed6",
        "colab": {
          "base_uri": "https://localhost:8080/",
          "height": 34
        }
      },
      "source": [
        "train_data.shape"
      ],
      "execution_count": 0,
      "outputs": [
        {
          "output_type": "execute_result",
          "data": {
            "text/plain": [
              "(50000, 32, 32, 3)"
            ]
          },
          "metadata": {
            "tags": []
          },
          "execution_count": 2
        }
      ]
    },
    {
      "cell_type": "code",
      "metadata": {
        "id": "9zEZ6he7NHkq",
        "colab_type": "code",
        "outputId": "3be8cf68-8b9f-486a-978c-db9cde6f2cf8",
        "colab": {
          "base_uri": "https://localhost:8080/",
          "height": 34
        }
      },
      "source": [
        "train_labels.shape"
      ],
      "execution_count": 0,
      "outputs": [
        {
          "output_type": "execute_result",
          "data": {
            "text/plain": [
              "(50000, 1)"
            ]
          },
          "metadata": {
            "tags": []
          },
          "execution_count": 3
        }
      ]
    },
    {
      "cell_type": "code",
      "metadata": {
        "id": "XAaQTF0-NHkw",
        "colab_type": "code",
        "colab": {}
      },
      "source": [
        "# seleccionar subset del total\n",
        "samples_per_class = 300\n",
        "number_of_classes = 10\n",
        "train_data_subset = np.array([])\n",
        "train_labels_subset = np.array([])\n",
        "for i in range(number_of_classes):\n",
        "    mask = np.where(train_labels == i)[0] # needed because train_labels has 2 dimensions\n",
        "    if i == 0:\n",
        "        train_data_subset = train_data[mask[:samples_per_class]]\n",
        "        train_labels_subset = train_labels[mask[:samples_per_class]]\n",
        "    else:\n",
        "        train_data_subset = np.concatenate((train_data_subset,train_data[mask[:samples_per_class]]))\n",
        "        train_labels_subset = np.concatenate((train_labels_subset,train_labels[mask[:samples_per_class]]))"
      ],
      "execution_count": 0,
      "outputs": []
    },
    {
      "cell_type": "code",
      "metadata": {
        "id": "8mhUSDpgNHky",
        "colab_type": "code",
        "outputId": "0b2f7221-c42b-49b7-8aec-b5859b699a02",
        "colab": {
          "base_uri": "https://localhost:8080/",
          "height": 34
        }
      },
      "source": [
        "train_data_subset.shape"
      ],
      "execution_count": 0,
      "outputs": [
        {
          "output_type": "execute_result",
          "data": {
            "text/plain": [
              "(3000, 32, 32, 3)"
            ]
          },
          "metadata": {
            "tags": []
          },
          "execution_count": 5
        }
      ]
    },
    {
      "cell_type": "code",
      "metadata": {
        "id": "r7eR3lrSNHk3",
        "colab_type": "code",
        "outputId": "d1e11955-0cc7-4018-bb02-eef139eb0a31",
        "colab": {
          "base_uri": "https://localhost:8080/",
          "height": 34
        }
      },
      "source": [
        "train_labels_subset.shape"
      ],
      "execution_count": 0,
      "outputs": [
        {
          "output_type": "execute_result",
          "data": {
            "text/plain": [
              "(3000, 1)"
            ]
          },
          "metadata": {
            "tags": []
          },
          "execution_count": 6
        }
      ]
    },
    {
      "cell_type": "code",
      "metadata": {
        "id": "XV2HrWbXNHk5",
        "colab_type": "code",
        "colab": {}
      },
      "source": [
        "from keras.utils import to_categorical\n",
        "\n",
        "# transformar los datos\n",
        "x_train = train_data_subset.astype('float32')/255\n",
        "x_test = test_data.astype('float32')/255\n",
        "\n",
        "y_train = to_categorical(train_labels_subset)\n",
        "y_test = to_categorical(test_labels)"
      ],
      "execution_count": 0,
      "outputs": []
    },
    {
      "cell_type": "code",
      "metadata": {
        "id": "5M4Bm79jNHk7",
        "colab_type": "code",
        "outputId": "f6b7f64e-95c8-4a0c-a2e6-fb6e626f2c49",
        "colab": {
          "base_uri": "https://localhost:8080/",
          "height": 173
        }
      },
      "source": [
        "from keras import models\n",
        "from keras import layers\n",
        "\n",
        "convnet = models.Sequential()\n",
        "convnet.add(layers.Conv2D(32,(3,3),input_shape=(32,32,3),activation='relu'))\n",
        "convnet.add(layers.Conv2D(32,(3,3),activation='relu'))\n",
        "convnet.add(layers.MaxPooling2D((2,2)))\n",
        "convnet.add(layers.Conv2D(64,(3,3),activation='relu'))\n",
        "convnet.add(layers.Conv2D(64,(3,3),activation='relu'))\n",
        "convnet.add(layers.MaxPooling2D((2,2)))\n",
        "convnet.add(layers.Flatten())\n",
        "convnet.add(layers.Dense(512,activation='relu'))\n",
        "convnet.add(layers.Dense(number_of_classes,activation='softmax'))"
      ],
      "execution_count": 0,
      "outputs": [
        {
          "output_type": "stream",
          "text": [
            "WARNING:tensorflow:From /usr/local/lib/python3.6/dist-packages/keras/backend/tensorflow_backend.py:66: The name tf.get_default_graph is deprecated. Please use tf.compat.v1.get_default_graph instead.\n",
            "\n",
            "WARNING:tensorflow:From /usr/local/lib/python3.6/dist-packages/keras/backend/tensorflow_backend.py:541: The name tf.placeholder is deprecated. Please use tf.compat.v1.placeholder instead.\n",
            "\n",
            "WARNING:tensorflow:From /usr/local/lib/python3.6/dist-packages/keras/backend/tensorflow_backend.py:4432: The name tf.random_uniform is deprecated. Please use tf.random.uniform instead.\n",
            "\n",
            "WARNING:tensorflow:From /usr/local/lib/python3.6/dist-packages/keras/backend/tensorflow_backend.py:4267: The name tf.nn.max_pool is deprecated. Please use tf.nn.max_pool2d instead.\n",
            "\n"
          ],
          "name": "stdout"
        }
      ]
    },
    {
      "cell_type": "code",
      "metadata": {
        "id": "HovPnjOzNHk_",
        "colab_type": "code",
        "outputId": "80acf074-1286-4419-cf76-277581bd71ea",
        "colab": {
          "base_uri": "https://localhost:8080/",
          "height": 105
        }
      },
      "source": [
        "convnet.compile(optimizer='rmsprop',\n",
        "               loss='categorical_crossentropy',\n",
        "               metrics=['accuracy'])"
      ],
      "execution_count": 0,
      "outputs": [
        {
          "output_type": "stream",
          "text": [
            "WARNING:tensorflow:From /usr/local/lib/python3.6/dist-packages/keras/optimizers.py:793: The name tf.train.Optimizer is deprecated. Please use tf.compat.v1.train.Optimizer instead.\n",
            "\n",
            "WARNING:tensorflow:From /usr/local/lib/python3.6/dist-packages/keras/backend/tensorflow_backend.py:3576: The name tf.log is deprecated. Please use tf.math.log instead.\n",
            "\n"
          ],
          "name": "stdout"
        }
      ]
    },
    {
      "cell_type": "code",
      "metadata": {
        "id": "KjakS1D6NHlC",
        "colab_type": "code",
        "outputId": "4fcd87e5-f278-4705-c5a7-d29b02ceb715",
        "colab": {
          "base_uri": "https://localhost:8080/",
          "height": 770
        }
      },
      "source": [
        "history = convnet.fit(x_train,y_train,epochs=20,batch_size=64,validation_data=(x_test,y_test))"
      ],
      "execution_count": 0,
      "outputs": [
        {
          "output_type": "stream",
          "text": [
            "Train on 3000 samples, validate on 10000 samples\n",
            "Epoch 1/20\n",
            "3000/3000 [==============================] - 1s 470us/step - loss: 2.1991 - acc: 0.1767 - val_loss: 1.9532 - val_acc: 0.3022\n",
            "Epoch 2/20\n",
            "3000/3000 [==============================] - 1s 267us/step - loss: 1.9277 - acc: 0.2987 - val_loss: 1.8446 - val_acc: 0.3255\n",
            "Epoch 3/20\n",
            "3000/3000 [==============================] - 1s 264us/step - loss: 1.7716 - acc: 0.3637 - val_loss: 1.8818 - val_acc: 0.3200\n",
            "Epoch 4/20\n",
            "3000/3000 [==============================] - 1s 262us/step - loss: 1.6586 - acc: 0.3937 - val_loss: 1.6963 - val_acc: 0.3886\n",
            "Epoch 5/20\n",
            "3000/3000 [==============================] - 1s 263us/step - loss: 1.5676 - acc: 0.4427 - val_loss: 1.7034 - val_acc: 0.3863\n",
            "Epoch 6/20\n",
            "3000/3000 [==============================] - 1s 260us/step - loss: 1.4497 - acc: 0.4793 - val_loss: 1.5494 - val_acc: 0.4366\n",
            "Epoch 7/20\n",
            "3000/3000 [==============================] - 1s 262us/step - loss: 1.3610 - acc: 0.5077 - val_loss: 1.4972 - val_acc: 0.4626\n",
            "Epoch 8/20\n",
            "3000/3000 [==============================] - 1s 261us/step - loss: 1.2592 - acc: 0.5530 - val_loss: 1.4862 - val_acc: 0.4675\n",
            "Epoch 9/20\n",
            "3000/3000 [==============================] - 1s 262us/step - loss: 1.1865 - acc: 0.5827 - val_loss: 1.4703 - val_acc: 0.4856\n",
            "Epoch 10/20\n",
            "3000/3000 [==============================] - 1s 259us/step - loss: 1.0761 - acc: 0.6243 - val_loss: 1.6017 - val_acc: 0.4736\n",
            "Epoch 11/20\n",
            "3000/3000 [==============================] - 1s 260us/step - loss: 0.9395 - acc: 0.6720 - val_loss: 1.6197 - val_acc: 0.4676\n",
            "Epoch 12/20\n",
            "3000/3000 [==============================] - 1s 261us/step - loss: 0.8434 - acc: 0.7107 - val_loss: 1.5853 - val_acc: 0.4854\n",
            "Epoch 13/20\n",
            "3000/3000 [==============================] - 1s 262us/step - loss: 0.7256 - acc: 0.7470 - val_loss: 1.5621 - val_acc: 0.5106\n",
            "Epoch 14/20\n",
            "3000/3000 [==============================] - 1s 257us/step - loss: 0.6257 - acc: 0.7830 - val_loss: 1.9611 - val_acc: 0.4682\n",
            "Epoch 15/20\n",
            "3000/3000 [==============================] - 1s 263us/step - loss: 0.5043 - acc: 0.8343 - val_loss: 1.8402 - val_acc: 0.5039\n",
            "Epoch 16/20\n",
            "3000/3000 [==============================] - 1s 261us/step - loss: 0.3748 - acc: 0.8700 - val_loss: 1.9572 - val_acc: 0.5137\n",
            "Epoch 17/20\n",
            "3000/3000 [==============================] - 1s 261us/step - loss: 0.3219 - acc: 0.8933 - val_loss: 2.1884 - val_acc: 0.4794\n",
            "Epoch 18/20\n",
            "3000/3000 [==============================] - 1s 257us/step - loss: 0.2523 - acc: 0.9233 - val_loss: 2.3104 - val_acc: 0.5019\n",
            "Epoch 19/20\n",
            "3000/3000 [==============================] - 1s 260us/step - loss: 0.2019 - acc: 0.9467 - val_loss: 2.3766 - val_acc: 0.5036\n",
            "Epoch 20/20\n",
            "3000/3000 [==============================] - 1s 259us/step - loss: 0.2116 - acc: 0.9410 - val_loss: 2.2069 - val_acc: 0.4956\n"
          ],
          "name": "stdout"
        }
      ]
    },
    {
      "cell_type": "code",
      "metadata": {
        "id": "7fcYMXSJNHlG",
        "colab_type": "code",
        "outputId": "881b2274-09f8-4e60-946a-0dfb645d2f1c",
        "colab": {
          "base_uri": "https://localhost:8080/",
          "height": 295
        }
      },
      "source": [
        "import matplotlib.pyplot as plt\n",
        "%matplotlib inline\n",
        "\n",
        "#plot accuracy\n",
        "epochs = np.arange(1,len(history.history['acc'])+1)\n",
        "plt.title('Normal model')\n",
        "plt.xlabel('epoch')\n",
        "plt.ylabel('accuracy')\n",
        "plt.plot(epochs,history.history['acc'],'r',label='training accuracy')\n",
        "plt.plot(epochs,history.history['val_acc'],'b',label='validation accuracy')\n",
        "plt.legend(loc='best')\n",
        "plt.show()"
      ],
      "execution_count": 0,
      "outputs": [
        {
          "output_type": "display_data",
          "data": {
            "image/png": "[encoded data removed]",
            "text/plain": [
              "<Figure size 432x288 with 1 Axes>"
            ]
          },
          "metadata": {
            "tags": []
          }
        }
      ]
    },
    {
      "cell_type": "markdown",
      "metadata": {
        "id": "cpoRfDiENHlP",
        "colab_type": "text"
      },
      "source": [
        "# Data augmentation\n",
        "- Incrementar el número de ejemplos para evitar overfitting (junto con dropout)\n",
        "- Generar datos a partir de los presentes, a través de transformaciones"
      ]
    },
    {
      "cell_type": "code",
      "metadata": {
        "id": "FA0swBO3NHlQ",
        "colab_type": "code",
        "colab": {}
      },
      "source": [
        "from keras.preprocessing.image import ImageDataGenerator\n",
        "\n",
        "datagen = ImageDataGenerator(\n",
        "    rotation_range=10, # grados de rotacion aleatoria\n",
        "    width_shift_range=0.1, # fraccion del total (1) para mover la imagen\n",
        "    height_shift_range=0.1, # fraccion del total (1) para mover la imagen\n",
        "    shear_range=0, # deslizamiento\n",
        "    zoom_range=0.1, # rango de zoom\n",
        "    horizontal_flip=True, # girar las imagenes horizontalmente (eje vertical)\n",
        "    fill_mode='nearest', # como rellenar posibles nuevos pixeles\n",
        "    channel_shift_range=0.2 # cambios aleatorios en los canales de la imagen\n",
        ")"
      ],
      "execution_count": 0,
      "outputs": []
    },
    {
      "cell_type": "code",
      "metadata": {
        "id": "vtgZCInwNHlX",
        "colab_type": "code",
        "outputId": "4eb7864d-96ae-4dde-ef3c-cda4bac93f44",
        "colab": {
          "base_uri": "https://localhost:8080/",
          "height": 538
        }
      },
      "source": [
        "from keras.preprocessing import image\n",
        "import matplotlib.pyplot as plt\n",
        "%matplotlib inline\n",
        "\n",
        "sample = 100\n",
        "plt.imshow(image.array_to_img(x_train[sample]))\n",
        "plt.show()\n",
        "print('Label {}'.format(y_train[sample]))\n",
        "\n",
        "fig, axes = plt.subplots(2,2)\n",
        "i = 0\n",
        "for batch in datagen.flow(x_train[sample].reshape((1,32,32,3)),batch_size=1):\n",
        "    #plt.figure(i)\n",
        "    axes[i//2,i%2].imshow(image.array_to_img(batch[0]))\n",
        "    i += 1\n",
        "    if i == 4:\n",
        "        break\n",
        "plt.show()"
      ],
      "execution_count": 0,
      "outputs": [
        {
          "output_type": "display_data",
          "data": {
            "image/png": "[encoded data removed]",
            "text/plain": [
              "<Figure size 432x288 with 1 Axes>"
            ]
          },
          "metadata": {
            "tags": []
          }
        },
        {
          "output_type": "stream",
          "text": [
            "Label [1. 0. 0. 0. 0. 0. 0. 0. 0. 0.]\n"
          ],
          "name": "stdout"
        },
        {
          "output_type": "display_data",
          "data": {
            "image/png": "[encoded data removed]",
            "text/plain": [
              "<Figure size 432x288 with 4 Axes>"
            ]
          },
          "metadata": {
            "tags": []
          }
        }
      ]
    },
    {
      "cell_type": "code",
      "metadata": {
        "id": "N4ixfOleNHlb",
        "colab_type": "code",
        "outputId": "d97b0608-91a1-44e9-a176-e6459aae7e6d",
        "colab": {
          "base_uri": "https://localhost:8080/",
          "height": 122
        }
      },
      "source": [
        "from keras import models\n",
        "from keras import layers\n",
        "\n",
        "convnet_augmentation = models.Sequential()\n",
        "convnet_augmentation.add(layers.Conv2D(32,(3,3),input_shape=(32,32,3),activation='relu'))\n",
        "convnet_augmentation.add(layers.Conv2D(32,(3,3),activation='relu'))\n",
        "convnet_augmentation.add(layers.MaxPooling2D((2,2)))\n",
        "convnet_augmentation.add(layers.Dropout(0.25))\n",
        "convnet_augmentation.add(layers.Conv2D(64,(3,3),activation='relu'))\n",
        "convnet_augmentation.add(layers.Conv2D(64,(3,3),activation='relu'))\n",
        "convnet_augmentation.add(layers.MaxPooling2D((2,2)))\n",
        "convnet_augmentation.add(layers.Flatten())\n",
        "convnet_augmentation.add(layers.Dropout(0.25))\n",
        "convnet_augmentation.add(layers.Dense(512,activation='relu'))\n",
        "convnet_augmentation.add(layers.Dropout(0.5))\n",
        "convnet_augmentation.add(layers.Dense(number_of_classes,activation='softmax'))"
      ],
      "execution_count": 0,
      "outputs": [
        {
          "output_type": "stream",
          "text": [
            "WARNING:tensorflow:From /usr/local/lib/python3.6/dist-packages/keras/backend/tensorflow_backend.py:148: The name tf.placeholder_with_default is deprecated. Please use tf.compat.v1.placeholder_with_default instead.\n",
            "\n",
            "WARNING:tensorflow:From /usr/local/lib/python3.6/dist-packages/keras/backend/tensorflow_backend.py:3733: calling dropout (from tensorflow.python.ops.nn_ops) with keep_prob is deprecated and will be removed in a future version.\n",
            "Instructions for updating:\n",
            "Please use `rate` instead of `keep_prob`. Rate should be set to `rate = 1 - keep_prob`.\n"
          ],
          "name": "stdout"
        }
      ]
    },
    {
      "cell_type": "code",
      "metadata": {
        "id": "aZ59XpLsNHld",
        "colab_type": "code",
        "colab": {}
      },
      "source": [
        "convnet_augmentation.compile(optimizer='rmsprop',\n",
        "               loss='categorical_crossentropy',\n",
        "               metrics=['accuracy'])"
      ],
      "execution_count": 0,
      "outputs": []
    },
    {
      "cell_type": "code",
      "metadata": {
        "id": "xVEVxyTlNHlf",
        "colab_type": "code",
        "outputId": "0a3e79d1-6fd6-4a04-9317-467dd62bca03",
        "colab": {
          "base_uri": "https://localhost:8080/",
          "height": 752
        }
      },
      "source": [
        "### entrenar utilizando el generador de data\n",
        "# Compute quantities required for feature-wise normalization\n",
        "# (std, mean, and principal components if ZCA whitening is applied).\n",
        "#datagen.fit(x_train)\n",
        "\n",
        "# es necesario especificar el numero de steps cuando se usa un generator (para saber cuando dejar de generar datos en una epoca)\n",
        "batch_size = 32\n",
        "num_samples = x_train.shape[0] * 10 # multiplicar por 10 el numero de ejemplos\n",
        "\n",
        "# Fit the model on the batches generated by datagen.flow().\n",
        "history_augmentation = convnet_augmentation.fit_generator(datagen.flow(x_train, y_train,batch_size=batch_size),\n",
        "                            epochs=20,\n",
        "                            validation_data=(x_test, y_test),\n",
        "                            workers=4,\n",
        "                            steps_per_epoch=num_samples//batch_size)"
      ],
      "execution_count": 0,
      "outputs": [
        {
          "output_type": "stream",
          "text": [
            "Epoch 1/20\n",
            "937/937 [==============================] - 23s 25ms/step - loss: 1.4588 - acc: 0.4750 - val_loss: 1.4526 - val_acc: 0.4943\n",
            "Epoch 2/20\n",
            "937/937 [==============================] - 24s 26ms/step - loss: 1.2338 - acc: 0.5626 - val_loss: 1.2223 - val_acc: 0.5810\n",
            "Epoch 3/20\n",
            "937/937 [==============================] - 23s 24ms/step - loss: 1.1176 - acc: 0.6038 - val_loss: 1.1770 - val_acc: 0.6109\n",
            "Epoch 4/20\n",
            "937/937 [==============================] - 23s 24ms/step - loss: 1.0437 - acc: 0.6384 - val_loss: 1.5031 - val_acc: 0.5490\n",
            "Epoch 5/20\n",
            "937/937 [==============================] - 25s 27ms/step - loss: 0.9945 - acc: 0.6586 - val_loss: 1.4876 - val_acc: 0.5859\n",
            "Epoch 6/20\n",
            "937/937 [==============================] - 22s 24ms/step - loss: 0.9712 - acc: 0.6652 - val_loss: 1.5833 - val_acc: 0.5733\n",
            "Epoch 7/20\n",
            "937/937 [==============================] - 22s 24ms/step - loss: 0.9568 - acc: 0.6733 - val_loss: 1.1927 - val_acc: 0.6375\n",
            "Epoch 8/20\n",
            "937/937 [==============================] - 23s 25ms/step - loss: 0.9552 - acc: 0.6784 - val_loss: 1.3743 - val_acc: 0.6150\n",
            "Epoch 9/20\n",
            "937/937 [==============================] - 25s 26ms/step - loss: 0.9610 - acc: 0.6768 - val_loss: 1.5315 - val_acc: 0.6022\n",
            "Epoch 10/20\n",
            "937/937 [==============================] - 22s 24ms/step - loss: 0.9678 - acc: 0.6806 - val_loss: 1.3663 - val_acc: 0.6094\n",
            "Epoch 11/20\n",
            "937/937 [==============================] - 22s 24ms/step - loss: 0.9910 - acc: 0.6741 - val_loss: 1.6048 - val_acc: 0.6072\n",
            "Epoch 12/20\n",
            "937/937 [==============================] - 24s 26ms/step - loss: 1.0194 - acc: 0.6697 - val_loss: 1.3077 - val_acc: 0.5920\n",
            "Epoch 13/20\n",
            "937/937 [==============================] - 22s 24ms/step - loss: 1.0438 - acc: 0.6636 - val_loss: 1.4690 - val_acc: 0.5643\n",
            "Epoch 14/20\n",
            "937/937 [==============================] - 22s 24ms/step - loss: 1.0692 - acc: 0.6572 - val_loss: 1.4084 - val_acc: 0.6114\n",
            "Epoch 15/20\n",
            "937/937 [==============================] - 23s 24ms/step - loss: 1.0974 - acc: 0.6470 - val_loss: 1.4692 - val_acc: 0.5611\n",
            "Epoch 16/20\n",
            "937/937 [==============================] - 24s 25ms/step - loss: 1.1372 - acc: 0.6341 - val_loss: 1.1886 - val_acc: 0.6292\n",
            "Epoch 17/20\n",
            "937/937 [==============================] - 23s 24ms/step - loss: 1.1709 - acc: 0.6249 - val_loss: 1.9719 - val_acc: 0.6038\n",
            "Epoch 18/20\n",
            "937/937 [==============================] - 23s 24ms/step - loss: 1.1689 - acc: 0.6240 - val_loss: 1.4401 - val_acc: 0.6180\n",
            "Epoch 19/20\n",
            "937/937 [==============================] - 26s 27ms/step - loss: 1.1933 - acc: 0.6196 - val_loss: 1.2666 - val_acc: 0.6086\n",
            "Epoch 20/20\n",
            "937/937 [==============================] - 22s 24ms/step - loss: 1.2318 - acc: 0.6074 - val_loss: 1.5965 - val_acc: 0.4989\n"
          ],
          "name": "stdout"
        }
      ]
    },
    {
      "cell_type": "code",
      "metadata": {
        "id": "iJIj-8Y7NHlh",
        "colab_type": "code",
        "outputId": "db653220-1838-44a4-99a0-7ff0d84e8bdc",
        "colab": {
          "base_uri": "https://localhost:8080/",
          "height": 295
        }
      },
      "source": [
        "import numpy as np\n",
        "import matplotlib.pyplot as plt\n",
        "\n",
        "#plot accuracy\n",
        "epochs = np.arange(1,len(history_augmentation.history['acc'])+1)\n",
        "plt.title('Model with data augmentation')\n",
        "plt.xlabel('epoch')\n",
        "plt.ylabel('accuracy')\n",
        "plt.plot(epochs,history_augmentation.history['acc'],'r',label='training accuracy')\n",
        "plt.plot(epochs,history_augmentation.history['val_acc'],'b',label='validation accuracy')\n",
        "plt.legend(loc='best')\n",
        "plt.show()\n",
        "\n",
        "# guardar el modelo\n",
        "convnet_augmentation.save(BASE_FOLDER+'resources/convnet_augmentation.h5')"
      ],
      "execution_count": 0,
      "outputs": [
        {
          "output_type": "display_data",
          "data": {
            "image/png": "[encoded data removed]",
            "text/plain": [
              "<Figure size 432x288 with 1 Axes>"
            ]
          },
          "metadata": {
            "tags": []
          }
        }
      ]
    },
    {
      "cell_type": "markdown",
      "metadata": {
        "id": "9bKNJiApNHlj",
        "colab_type": "text"
      },
      "source": [
        "# Utilizando una red pre-entrenada\n",
        "\n",
        "- Aunque no hayan sido entrenadas con las mismas clases target, han aprendido a distinguir features\n",
        "- Puede reutilizarse en otra red\n",
        "- Bueno cuando se tienen pocos datos"
      ]
    },
    {
      "cell_type": "markdown",
      "metadata": {
        "id": "OA8__BfdNHll",
        "colab_type": "text"
      },
      "source": [
        "## Extraccion de features\n",
        "- Red entrenada en ImageNet: animales, objetos, etc. 1.4 millones\n",
        "- Utilizar la parte convolucional de una red entrenada en gran dataset\n",
        " - genérica\n"
      ]
    },
    {
      "cell_type": "markdown",
      "metadata": {
        "id": "AtgJGChlNHlm",
        "colab_type": "text"
      },
      "source": [
        "- la parte densa suele ser más especifica a las clases objetivo\n",
        "- Fijar esa parte y entrenar solo la parte densa"
      ]
    },
    {
      "cell_type": "code",
      "metadata": {
        "id": "oRfr9ZWeNHlm",
        "colab_type": "code",
        "outputId": "16fc1d2e-7d4b-46e1-ee44-bf7e8991859b",
        "colab": {
          "base_uri": "https://localhost:8080/",
          "height": 1000
        }
      },
      "source": [
        "#keras incluye varias arquitecturas\n",
        "# VGG16, VGG19, ResNet50, Xception, InceptionV3, InceptionResNetV2, MobileNetV2, DenseNet, RasNet\n",
        "# documentacion https://keras.io/applications/\n",
        "# Visual Geometry Group 16 / 19 (numero de layers)\n",
        "# 1 y 2 en la competicion ImageNet 2014\n",
        "# kernels pequenyos de 3x3\n",
        "from keras.applications import VGG16\n",
        "\n",
        "conv_base = VGG16(weights='imagenet',\n",
        "                 include_top=False, # incluir la parte densa (fully connected)\n",
        "                 input_shape=(32,32,3))\n",
        "conv_base.summary()"
      ],
      "execution_count": 0,
      "outputs": [
        {
          "output_type": "stream",
          "text": [
            "Downloading data from https://github.com/fchollet/deep-learning-models/releases/download/v0.1/vgg16_weights_tf_dim_ordering_tf_kernels_notop.h5\n",
            "58892288/58889256 [==============================] - 2s 0us/step\n",
            "WARNING:tensorflow:From /usr/local/lib/python3.6/dist-packages/keras/backend/tensorflow_backend.py:190: The name tf.get_default_session is deprecated. Please use tf.compat.v1.get_default_session instead.\n",
            "\n",
            "WARNING:tensorflow:From /usr/local/lib/python3.6/dist-packages/keras/backend/tensorflow_backend.py:197: The name tf.ConfigProto is deprecated. Please use tf.compat.v1.ConfigProto instead.\n",
            "\n",
            "WARNING:tensorflow:From /usr/local/lib/python3.6/dist-packages/keras/backend/tensorflow_backend.py:203: The name tf.Session is deprecated. Please use tf.compat.v1.Session instead.\n",
            "\n",
            "WARNING:tensorflow:From /usr/local/lib/python3.6/dist-packages/keras/backend/tensorflow_backend.py:207: The name tf.global_variables is deprecated. Please use tf.compat.v1.global_variables instead.\n",
            "\n",
            "WARNING:tensorflow:From /usr/local/lib/python3.6/dist-packages/keras/backend/tensorflow_backend.py:216: The name tf.is_variable_initialized is deprecated. Please use tf.compat.v1.is_variable_initialized instead.\n",
            "\n",
            "WARNING:tensorflow:From /usr/local/lib/python3.6/dist-packages/keras/backend/tensorflow_backend.py:223: The name tf.variables_initializer is deprecated. Please use tf.compat.v1.variables_initializer instead.\n",
            "\n",
            "Model: \"vgg16\"\n",
            "_________________________________________________________________\n",
            "Layer (type)                 Output Shape              Param #   \n",
            "=================================================================\n",
            "input_1 (InputLayer)         (None, 32, 32, 3)         0         \n",
            "_________________________________________________________________\n",
            "block1_conv1 (Conv2D)        (None, 32, 32, 64)        1792      \n",
            "_________________________________________________________________\n",
            "block1_conv2 (Conv2D)        (None, 32, 32, 64)        36928     \n",
            "_________________________________________________________________\n",
            "block1_pool (MaxPooling2D)   (None, 16, 16, 64)        0         \n",
            "_________________________________________________________________\n",
            "block2_conv1 (Conv2D)        (None, 16, 16, 128)       73856     \n",
            "_________________________________________________________________\n",
            "block2_conv2 (Conv2D)        (None, 16, 16, 128)       147584    \n",
            "_________________________________________________________________\n",
            "block2_pool (MaxPooling2D)   (None, 8, 8, 128)         0         \n",
            "_________________________________________________________________\n",
            "block3_conv1 (Conv2D)        (None, 8, 8, 256)         295168    \n",
            "_________________________________________________________________\n",
            "block3_conv2 (Conv2D)        (None, 8, 8, 256)         590080    \n",
            "_________________________________________________________________\n",
            "block3_conv3 (Conv2D)        (None, 8, 8, 256)         590080    \n",
            "_________________________________________________________________\n",
            "block3_pool (MaxPooling2D)   (None, 4, 4, 256)         0         \n",
            "_________________________________________________________________\n",
            "block4_conv1 (Conv2D)        (None, 4, 4, 512)         1180160   \n",
            "_________________________________________________________________\n",
            "block4_conv2 (Conv2D)        (None, 4, 4, 512)         2359808   \n",
            "_________________________________________________________________\n",
            "block4_conv3 (Conv2D)        (None, 4, 4, 512)         2359808   \n",
            "_________________________________________________________________\n",
            "block4_pool (MaxPooling2D)   (None, 2, 2, 512)         0         \n",
            "_________________________________________________________________\n",
            "block5_conv1 (Conv2D)        (None, 2, 2, 512)         2359808   \n",
            "_________________________________________________________________\n",
            "block5_conv2 (Conv2D)        (None, 2, 2, 512)         2359808   \n",
            "_________________________________________________________________\n",
            "block5_conv3 (Conv2D)        (None, 2, 2, 512)         2359808   \n",
            "_________________________________________________________________\n",
            "block5_pool (MaxPooling2D)   (None, 1, 1, 512)         0         \n",
            "=================================================================\n",
            "Total params: 14,714,688\n",
            "Trainable params: 14,714,688\n",
            "Non-trainable params: 0\n",
            "_________________________________________________________________\n"
          ],
          "name": "stdout"
        }
      ]
    },
    {
      "cell_type": "code",
      "metadata": {
        "id": "XTvDJDz2NHlq",
        "colab_type": "code",
        "outputId": "a8105a58-c72c-4e93-8d18-740debf811ca",
        "colab": {
          "base_uri": "https://localhost:8080/",
          "height": 289
        }
      },
      "source": [
        "# conectarlo a nueva parte densa\n",
        "from keras import models\n",
        "from keras import layers\n",
        "\n",
        "conv_base.trainable = False # evitar que los pesos se modifiquen en la parte convolucional\n",
        "pre_trained_model = models.Sequential()\n",
        "pre_trained_model.add(conv_base)\n",
        "pre_trained_model.add(layers.Flatten())\n",
        "pre_trained_model.add(layers.Dense(256, activation='relu'))\n",
        "pre_trained_model.add(layers.Dense(number_of_classes, activation='softmax'))\n",
        "\n",
        "pre_trained_model.summary()"
      ],
      "execution_count": 0,
      "outputs": [
        {
          "output_type": "stream",
          "text": [
            "Model: \"sequential_3\"\n",
            "_________________________________________________________________\n",
            "Layer (type)                 Output Shape              Param #   \n",
            "=================================================================\n",
            "vgg16 (Model)                (None, 1, 1, 512)         14714688  \n",
            "_________________________________________________________________\n",
            "flatten_3 (Flatten)          (None, 512)               0         \n",
            "_________________________________________________________________\n",
            "dense_5 (Dense)              (None, 256)               131328    \n",
            "_________________________________________________________________\n",
            "dense_6 (Dense)              (None, 10)                2570      \n",
            "=================================================================\n",
            "Total params: 14,848,586\n",
            "Trainable params: 133,898\n",
            "Non-trainable params: 14,714,688\n",
            "_________________________________________________________________\n"
          ],
          "name": "stdout"
        }
      ]
    },
    {
      "cell_type": "code",
      "metadata": {
        "id": "T8ISC9EkXlUp",
        "colab_type": "code",
        "colab": {}
      },
      "source": [
        "''' TRANSFER LERANING vs FINE-TUNING\n",
        "\n",
        "#¿Y si quisieramos re-entrenar algún bloque del base model? -> Fine-tuning\n",
        "# Congelamos las capas de los 4 primeros bloques convolucionales, el quinto se re-entrena\n",
        "# En base_model.layers.name tenemos la información del nombre de la capa\n",
        "for layer in base_model.layers:\n",
        "  if layer.name == 'block5_conv1': \n",
        "    break \n",
        "  layer.trainable = False \n",
        "  print('Capa ' + layer.name + ' congelada...')\n",
        "  \n",
        "# Cogemos la última capa del model y le añadimos nuestro clasificador (top_model)\n",
        "last = base_model.layers[-1].output #(X)\n",
        "x = Flatten()(last) #(X)\n",
        "x = Dense(1000, activation='relu', name='fc1')(x) #(X)\n",
        "x = Dropout(0.3)(x) #(X)\n",
        "x = Dense(200, activation='relu', name='fc2')(x) #(X)\n",
        "x = Dense(10, activation='softmax', name='predictions')(x) #(X)\n",
        "model = Model(base_model.input, x) #(X) \n",
        "\n",
        "'''"
      ],
      "execution_count": 0,
      "outputs": []
    },
    {
      "cell_type": "code",
      "metadata": {
        "id": "_EIF5PYjNHlt",
        "colab_type": "code",
        "colab": {}
      },
      "source": [
        "# compilar el modelo\n",
        "pre_trained_model.compile(optimizer='rmsprop',\n",
        "               loss='categorical_crossentropy',\n",
        "               metrics=['accuracy'])\n",
        "\n",
        "# data augmentation\n",
        "from keras.preprocessing.image import ImageDataGenerator\n",
        "\n",
        "datagen = ImageDataGenerator(\n",
        "    rotation_range=10, # grados de rotacion aleatoria\n",
        "    width_shift_range=0.1, # fraccion del total (1) para mover la imagen\n",
        "    height_shift_range=0.1, # fraccion del total (1) para mover la imagen\n",
        "    shear_range=0, # deslizamiento\n",
        "    zoom_range=0.1, # rango de zoom\n",
        "    horizontal_flip=True, # girar las imagenes horizontalmente (eje vertical)\n",
        "    fill_mode='nearest', # como rellenar posibles nuevos pixeles\n",
        "    channel_shift_range=0.2 # cambios aleatorios en los canales de la imagen\n",
        ")"
      ],
      "execution_count": 0,
      "outputs": []
    },
    {
      "cell_type": "code",
      "metadata": {
        "id": "aEm4uAO-NHlu",
        "colab_type": "code",
        "outputId": "c103c28b-9207-48f4-dcc6-77bddcb434c1",
        "colab": {
          "base_uri": "https://localhost:8080/",
          "height": 513
        }
      },
      "source": [
        "# entrenar utilizando el generador de data\n",
        "#datagen.fit(x_train)\n",
        "\n",
        "# es necesario especificar el numero de steps cuando se usa un generator (para saber cuando dejar de generar datos en una epoca)\n",
        "batch_size = 32\n",
        "num_samples = x_train.shape[0] * 10\n",
        "\n",
        "# Fit the model on the batches generated by datagen.flow().\n",
        "history_pretrained = pre_trained_model.fit_generator(datagen.flow(x_train, y_train,batch_size=batch_size),\n",
        "                            epochs=20,\n",
        "                            validation_data=(x_test, y_test),\n",
        "                            workers=4,\n",
        "                            steps_per_epoch=num_samples//batch_size)"
      ],
      "execution_count": 0,
      "outputs": [
        {
          "output_type": "stream",
          "text": [
            "WARNING:tensorflow:From /usr/local/lib/python3.6/dist-packages/tensorflow_core/python/ops/math_grad.py:1424: where (from tensorflow.python.ops.array_ops) is deprecated and will be removed in a future version.\n",
            "Instructions for updating:\n",
            "Use tf.where in 2.0, which has the same broadcast rule as np.where\n",
            "WARNING:tensorflow:From /usr/local/lib/python3.6/dist-packages/keras/backend/tensorflow_backend.py:1033: The name tf.assign_add is deprecated. Please use tf.compat.v1.assign_add instead.\n",
            "\n",
            "WARNING:tensorflow:From /usr/local/lib/python3.6/dist-packages/keras/backend/tensorflow_backend.py:1020: The name tf.assign is deprecated. Please use tf.compat.v1.assign instead.\n",
            "\n",
            "Epoch 1/20\n",
            "553/937 [================>.............] - ETA: 17s - loss: 1.5144 - acc: 0.4679"
          ],
          "name": "stdout"
        },
        {
          "output_type": "error",
          "ename": "KeyboardInterrupt",
          "evalue": "ignored",
          "traceback": [
            "\u001b[0;31m---------------------------------------------------------------------------\u001b[0m",
            "\u001b[0;31mKeyboardInterrupt\u001b[0m                         Traceback (most recent call last)",
            "\u001b[0;32m<ipython-input-18-175cf9c69a86>\u001b[0m in \u001b[0;36m<module>\u001b[0;34m()\u001b[0m\n\u001b[1;32m      7\u001b[0m                             \u001b[0mvalidation_data\u001b[0m\u001b[0;34m=\u001b[0m\u001b[0;34m(\u001b[0m\u001b[0mx_test\u001b[0m\u001b[0;34m,\u001b[0m \u001b[0my_test\u001b[0m\u001b[0;34m)\u001b[0m\u001b[0;34m,\u001b[0m\u001b[0;34m\u001b[0m\u001b[0;34m\u001b[0m\u001b[0m\n\u001b[1;32m      8\u001b[0m                             \u001b[0mworkers\u001b[0m\u001b[0;34m=\u001b[0m\u001b[0;36m4\u001b[0m\u001b[0;34m,\u001b[0m\u001b[0;34m\u001b[0m\u001b[0;34m\u001b[0m\u001b[0m\n\u001b[0;32m----> 9\u001b[0;31m                             steps_per_epoch=num_samples//batch_size)\n\u001b[0m",
            "\u001b[0;32m/usr/local/lib/python3.6/dist-packages/keras/legacy/interfaces.py\u001b[0m in \u001b[0;36mwrapper\u001b[0;34m(*args, **kwargs)\u001b[0m\n\u001b[1;32m     89\u001b[0m                 warnings.warn('Update your `' + object_name + '` call to the ' +\n\u001b[1;32m     90\u001b[0m                               'Keras 2 API: ' + signature, stacklevel=2)\n\u001b[0;32m---> 91\u001b[0;31m             \u001b[0;32mreturn\u001b[0m \u001b[0mfunc\u001b[0m\u001b[0;34m(\u001b[0m\u001b[0;34m*\u001b[0m\u001b[0margs\u001b[0m\u001b[0;34m,\u001b[0m \u001b[0;34m**\u001b[0m\u001b[0mkwargs\u001b[0m\u001b[0;34m)\u001b[0m\u001b[0;34m\u001b[0m\u001b[0;34m\u001b[0m\u001b[0m\n\u001b[0m\u001b[1;32m     92\u001b[0m         \u001b[0mwrapper\u001b[0m\u001b[0;34m.\u001b[0m\u001b[0m_original_function\u001b[0m \u001b[0;34m=\u001b[0m \u001b[0mfunc\u001b[0m\u001b[0;34m\u001b[0m\u001b[0;34m\u001b[0m\u001b[0m\n\u001b[1;32m     93\u001b[0m         \u001b[0;32mreturn\u001b[0m \u001b[0mwrapper\u001b[0m\u001b[0;34m\u001b[0m\u001b[0;34m\u001b[0m\u001b[0m\n",
            "\u001b[0;32m/usr/local/lib/python3.6/dist-packages/keras/engine/training.py\u001b[0m in \u001b[0;36mfit_generator\u001b[0;34m(self, generator, steps_per_epoch, epochs, verbose, callbacks, validation_data, validation_steps, validation_freq, class_weight, max_queue_size, workers, use_multiprocessing, shuffle, initial_epoch)\u001b[0m\n\u001b[1;32m   1656\u001b[0m             \u001b[0muse_multiprocessing\u001b[0m\u001b[0;34m=\u001b[0m\u001b[0muse_multiprocessing\u001b[0m\u001b[0;34m,\u001b[0m\u001b[0;34m\u001b[0m\u001b[0;34m\u001b[0m\u001b[0m\n\u001b[1;32m   1657\u001b[0m             \u001b[0mshuffle\u001b[0m\u001b[0;34m=\u001b[0m\u001b[0mshuffle\u001b[0m\u001b[0;34m,\u001b[0m\u001b[0;34m\u001b[0m\u001b[0;34m\u001b[0m\u001b[0m\n\u001b[0;32m-> 1658\u001b[0;31m             initial_epoch=initial_epoch)\n\u001b[0m\u001b[1;32m   1659\u001b[0m \u001b[0;34m\u001b[0m\u001b[0m\n\u001b[1;32m   1660\u001b[0m     \u001b[0;34m@\u001b[0m\u001b[0minterfaces\u001b[0m\u001b[0;34m.\u001b[0m\u001b[0mlegacy_generator_methods_support\u001b[0m\u001b[0;34m\u001b[0m\u001b[0;34m\u001b[0m\u001b[0m\n",
            "\u001b[0;32m/usr/local/lib/python3.6/dist-packages/keras/engine/training_generator.py\u001b[0m in \u001b[0;36mfit_generator\u001b[0;34m(model, generator, steps_per_epoch, epochs, verbose, callbacks, validation_data, validation_steps, validation_freq, class_weight, max_queue_size, workers, use_multiprocessing, shuffle, initial_epoch)\u001b[0m\n\u001b[1;32m    179\u001b[0m             \u001b[0mbatch_index\u001b[0m \u001b[0;34m=\u001b[0m \u001b[0;36m0\u001b[0m\u001b[0;34m\u001b[0m\u001b[0;34m\u001b[0m\u001b[0m\n\u001b[1;32m    180\u001b[0m             \u001b[0;32mwhile\u001b[0m \u001b[0msteps_done\u001b[0m \u001b[0;34m<\u001b[0m \u001b[0msteps_per_epoch\u001b[0m\u001b[0;34m:\u001b[0m\u001b[0;34m\u001b[0m\u001b[0;34m\u001b[0m\u001b[0m\n\u001b[0;32m--> 181\u001b[0;31m                 \u001b[0mgenerator_output\u001b[0m \u001b[0;34m=\u001b[0m \u001b[0mnext\u001b[0m\u001b[0;34m(\u001b[0m\u001b[0moutput_generator\u001b[0m\u001b[0;34m)\u001b[0m\u001b[0;34m\u001b[0m\u001b[0;34m\u001b[0m\u001b[0m\n\u001b[0m\u001b[1;32m    182\u001b[0m \u001b[0;34m\u001b[0m\u001b[0m\n\u001b[1;32m    183\u001b[0m                 \u001b[0;32mif\u001b[0m \u001b[0;32mnot\u001b[0m \u001b[0mhasattr\u001b[0m\u001b[0;34m(\u001b[0m\u001b[0mgenerator_output\u001b[0m\u001b[0;34m,\u001b[0m \u001b[0;34m'__len__'\u001b[0m\u001b[0;34m)\u001b[0m\u001b[0;34m:\u001b[0m\u001b[0;34m\u001b[0m\u001b[0;34m\u001b[0m\u001b[0m\n",
            "\u001b[0;32m/usr/local/lib/python3.6/dist-packages/keras/utils/data_utils.py\u001b[0m in \u001b[0;36mget\u001b[0;34m(self)\u001b[0m\n\u001b[1;32m    601\u001b[0m                 \u001b[0;32mtry\u001b[0m\u001b[0;34m:\u001b[0m\u001b[0;34m\u001b[0m\u001b[0;34m\u001b[0m\u001b[0m\n\u001b[1;32m    602\u001b[0m                     \u001b[0mfuture\u001b[0m \u001b[0;34m=\u001b[0m \u001b[0mself\u001b[0m\u001b[0;34m.\u001b[0m\u001b[0mqueue\u001b[0m\u001b[0;34m.\u001b[0m\u001b[0mget\u001b[0m\u001b[0;34m(\u001b[0m\u001b[0mblock\u001b[0m\u001b[0;34m=\u001b[0m\u001b[0;32mTrue\u001b[0m\u001b[0;34m)\u001b[0m\u001b[0;34m\u001b[0m\u001b[0;34m\u001b[0m\u001b[0m\n\u001b[0;32m--> 603\u001b[0;31m                     \u001b[0minputs\u001b[0m \u001b[0;34m=\u001b[0m \u001b[0mfuture\u001b[0m\u001b[0;34m.\u001b[0m\u001b[0mget\u001b[0m\u001b[0;34m(\u001b[0m\u001b[0mtimeout\u001b[0m\u001b[0;34m=\u001b[0m\u001b[0;36m30\u001b[0m\u001b[0;34m)\u001b[0m\u001b[0;34m\u001b[0m\u001b[0;34m\u001b[0m\u001b[0m\n\u001b[0m\u001b[1;32m    604\u001b[0m                     \u001b[0mself\u001b[0m\u001b[0;34m.\u001b[0m\u001b[0mqueue\u001b[0m\u001b[0;34m.\u001b[0m\u001b[0mtask_done\u001b[0m\u001b[0;34m(\u001b[0m\u001b[0;34m)\u001b[0m\u001b[0;34m\u001b[0m\u001b[0;34m\u001b[0m\u001b[0m\n\u001b[1;32m    605\u001b[0m                 \u001b[0;32mexcept\u001b[0m \u001b[0mmp\u001b[0m\u001b[0;34m.\u001b[0m\u001b[0mTimeoutError\u001b[0m\u001b[0;34m:\u001b[0m\u001b[0;34m\u001b[0m\u001b[0;34m\u001b[0m\u001b[0m\n",
            "\u001b[0;32m/usr/lib/python3.6/multiprocessing/pool.py\u001b[0m in \u001b[0;36mget\u001b[0;34m(self, timeout)\u001b[0m\n\u001b[1;32m    636\u001b[0m \u001b[0;34m\u001b[0m\u001b[0m\n\u001b[1;32m    637\u001b[0m     \u001b[0;32mdef\u001b[0m \u001b[0mget\u001b[0m\u001b[0;34m(\u001b[0m\u001b[0mself\u001b[0m\u001b[0;34m,\u001b[0m \u001b[0mtimeout\u001b[0m\u001b[0;34m=\u001b[0m\u001b[0;32mNone\u001b[0m\u001b[0;34m)\u001b[0m\u001b[0;34m:\u001b[0m\u001b[0;34m\u001b[0m\u001b[0;34m\u001b[0m\u001b[0m\n\u001b[0;32m--> 638\u001b[0;31m         \u001b[0mself\u001b[0m\u001b[0;34m.\u001b[0m\u001b[0mwait\u001b[0m\u001b[0;34m(\u001b[0m\u001b[0mtimeout\u001b[0m\u001b[0;34m)\u001b[0m\u001b[0;34m\u001b[0m\u001b[0;34m\u001b[0m\u001b[0m\n\u001b[0m\u001b[1;32m    639\u001b[0m         \u001b[0;32mif\u001b[0m \u001b[0;32mnot\u001b[0m \u001b[0mself\u001b[0m\u001b[0;34m.\u001b[0m\u001b[0mready\u001b[0m\u001b[0;34m(\u001b[0m\u001b[0;34m)\u001b[0m\u001b[0;34m:\u001b[0m\u001b[0;34m\u001b[0m\u001b[0;34m\u001b[0m\u001b[0m\n\u001b[1;32m    640\u001b[0m             \u001b[0;32mraise\u001b[0m \u001b[0mTimeoutError\u001b[0m\u001b[0;34m\u001b[0m\u001b[0;34m\u001b[0m\u001b[0m\n",
            "\u001b[0;32m/usr/lib/python3.6/multiprocessing/pool.py\u001b[0m in \u001b[0;36mwait\u001b[0;34m(self, timeout)\u001b[0m\n\u001b[1;32m    633\u001b[0m \u001b[0;34m\u001b[0m\u001b[0m\n\u001b[1;32m    634\u001b[0m     \u001b[0;32mdef\u001b[0m \u001b[0mwait\u001b[0m\u001b[0;34m(\u001b[0m\u001b[0mself\u001b[0m\u001b[0;34m,\u001b[0m \u001b[0mtimeout\u001b[0m\u001b[0;34m=\u001b[0m\u001b[0;32mNone\u001b[0m\u001b[0;34m)\u001b[0m\u001b[0;34m:\u001b[0m\u001b[0;34m\u001b[0m\u001b[0;34m\u001b[0m\u001b[0m\n\u001b[0;32m--> 635\u001b[0;31m         \u001b[0mself\u001b[0m\u001b[0;34m.\u001b[0m\u001b[0m_event\u001b[0m\u001b[0;34m.\u001b[0m\u001b[0mwait\u001b[0m\u001b[0;34m(\u001b[0m\u001b[0mtimeout\u001b[0m\u001b[0;34m)\u001b[0m\u001b[0;34m\u001b[0m\u001b[0;34m\u001b[0m\u001b[0m\n\u001b[0m\u001b[1;32m    636\u001b[0m \u001b[0;34m\u001b[0m\u001b[0m\n\u001b[1;32m    637\u001b[0m     \u001b[0;32mdef\u001b[0m \u001b[0mget\u001b[0m\u001b[0;34m(\u001b[0m\u001b[0mself\u001b[0m\u001b[0;34m,\u001b[0m \u001b[0mtimeout\u001b[0m\u001b[0;34m=\u001b[0m\u001b[0;32mNone\u001b[0m\u001b[0;34m)\u001b[0m\u001b[0;34m:\u001b[0m\u001b[0;34m\u001b[0m\u001b[0;34m\u001b[0m\u001b[0m\n",
            "\u001b[0;32m/usr/lib/python3.6/threading.py\u001b[0m in \u001b[0;36mwait\u001b[0;34m(self, timeout)\u001b[0m\n\u001b[1;32m    549\u001b[0m             \u001b[0msignaled\u001b[0m \u001b[0;34m=\u001b[0m \u001b[0mself\u001b[0m\u001b[0;34m.\u001b[0m\u001b[0m_flag\u001b[0m\u001b[0;34m\u001b[0m\u001b[0;34m\u001b[0m\u001b[0m\n\u001b[1;32m    550\u001b[0m             \u001b[0;32mif\u001b[0m \u001b[0;32mnot\u001b[0m \u001b[0msignaled\u001b[0m\u001b[0;34m:\u001b[0m\u001b[0;34m\u001b[0m\u001b[0;34m\u001b[0m\u001b[0m\n\u001b[0;32m--> 551\u001b[0;31m                 \u001b[0msignaled\u001b[0m \u001b[0;34m=\u001b[0m \u001b[0mself\u001b[0m\u001b[0;34m.\u001b[0m\u001b[0m_cond\u001b[0m\u001b[0;34m.\u001b[0m\u001b[0mwait\u001b[0m\u001b[0;34m(\u001b[0m\u001b[0mtimeout\u001b[0m\u001b[0;34m)\u001b[0m\u001b[0;34m\u001b[0m\u001b[0;34m\u001b[0m\u001b[0m\n\u001b[0m\u001b[1;32m    552\u001b[0m             \u001b[0;32mreturn\u001b[0m \u001b[0msignaled\u001b[0m\u001b[0;34m\u001b[0m\u001b[0;34m\u001b[0m\u001b[0m\n\u001b[1;32m    553\u001b[0m \u001b[0;34m\u001b[0m\u001b[0m\n",
            "\u001b[0;32m/usr/lib/python3.6/threading.py\u001b[0m in \u001b[0;36mwait\u001b[0;34m(self, timeout)\u001b[0m\n\u001b[1;32m    297\u001b[0m             \u001b[0;32melse\u001b[0m\u001b[0;34m:\u001b[0m\u001b[0;34m\u001b[0m\u001b[0;34m\u001b[0m\u001b[0m\n\u001b[1;32m    298\u001b[0m                 \u001b[0;32mif\u001b[0m \u001b[0mtimeout\u001b[0m \u001b[0;34m>\u001b[0m \u001b[0;36m0\u001b[0m\u001b[0;34m:\u001b[0m\u001b[0;34m\u001b[0m\u001b[0;34m\u001b[0m\u001b[0m\n\u001b[0;32m--> 299\u001b[0;31m                     \u001b[0mgotit\u001b[0m \u001b[0;34m=\u001b[0m \u001b[0mwaiter\u001b[0m\u001b[0;34m.\u001b[0m\u001b[0macquire\u001b[0m\u001b[0;34m(\u001b[0m\u001b[0;32mTrue\u001b[0m\u001b[0;34m,\u001b[0m \u001b[0mtimeout\u001b[0m\u001b[0;34m)\u001b[0m\u001b[0;34m\u001b[0m\u001b[0;34m\u001b[0m\u001b[0m\n\u001b[0m\u001b[1;32m    300\u001b[0m                 \u001b[0;32melse\u001b[0m\u001b[0;34m:\u001b[0m\u001b[0;34m\u001b[0m\u001b[0;34m\u001b[0m\u001b[0m\n\u001b[1;32m    301\u001b[0m                     \u001b[0mgotit\u001b[0m \u001b[0;34m=\u001b[0m \u001b[0mwaiter\u001b[0m\u001b[0;34m.\u001b[0m\u001b[0macquire\u001b[0m\u001b[0;34m(\u001b[0m\u001b[0;32mFalse\u001b[0m\u001b[0;34m)\u001b[0m\u001b[0;34m\u001b[0m\u001b[0;34m\u001b[0m\u001b[0m\n",
            "\u001b[0;31mKeyboardInterrupt\u001b[0m: "
          ]
        }
      ]
    },
    {
      "cell_type": "code",
      "metadata": {
        "id": "YMnJ9tbMNHlx",
        "colab_type": "code",
        "outputId": "b7007a21-ccda-4179-98d2-5b1cf51d7488",
        "colab": {}
      },
      "source": [
        "import numpy as np\n",
        "import matplotlib.pyplot as plt\n",
        "\n",
        "#plot accuracy\n",
        "epochs = np.arange(1,len(history_pretrained.history['acc'])+1)\n",
        "plt.title('Pre trained model')\n",
        "plt.xlabel('epoch')\n",
        "plt.ylabel('accuracy')\n",
        "plt.plot(epochs,history_pretrained.history['acc'],'r',label='training accuracy')\n",
        "plt.plot(epochs,history_pretrained.history['val_acc'],'b',label='validation accuracy')\n",
        "plt.legend(loc='best')\n",
        "plt.show()"
      ],
      "execution_count": 0,
      "outputs": [
        {
          "output_type": "display_data",
          "data": {
            "image/png": "[encoded data removed]",
            "text/plain": [
              "<Figure size 432x288 with 1 Axes>"
            ]
          },
          "metadata": {
            "tags": []
          }
        }
      ]
    },
    {
      "cell_type": "markdown",
      "metadata": {
        "id": "TEz9S4JxNHl9",
        "colab_type": "text"
      },
      "source": [
        "### Ejercicio: Alternativa liviana\n",
        "- Entrenar esto en CPU es demasiado lento\n",
        "- Ya que la parte CNN no es entrenable, se puede pasar una vez por imagen y grabar el output en una ndarray\n",
        " - utilizar como input de la parte entrenable estas ndarrays"
      ]
    },
    {
      "cell_type": "markdown",
      "metadata": {
        "id": "uS4JD8yVNHl9",
        "colab_type": "text"
      },
      "source": [
        "# Visualizar CNN\n",
        "- Como las features que aprenden las CNN son representaciones visuales, se pueden visualizar\n",
        "- Tres formas\n",
        " - Visualizar activaciones intermedias\n",
        " - Visualizar filtros convolucionales\n",
        " - Visualizar heatmaps de las activaciones por clase"
      ]
    },
    {
      "cell_type": "markdown",
      "metadata": {
        "id": "u4NV38CaNHl-",
        "colab_type": "text"
      },
      "source": [
        "## Visualizar Activaciones intermedias\n",
        "- Visualizar el output de las capas de la red\n",
        "- 2D imagen por canal"
      ]
    },
    {
      "cell_type": "code",
      "metadata": {
        "id": "HW1zc38GNHl_",
        "colab_type": "code",
        "outputId": "924f854f-0867-418e-9cfe-af5b4d2b390c",
        "colab": {
          "base_uri": "https://localhost:8080/",
          "height": 561
        }
      },
      "source": [
        "from keras.models import load_model\n",
        "model_augmentation = load_model(BASE_FOLDER+'resources/convnet_augmentation.h5')\n",
        "model_augmentation.summary()"
      ],
      "execution_count": 0,
      "outputs": [
        {
          "output_type": "stream",
          "text": [
            "Model: \"sequential_3\"\n",
            "_________________________________________________________________\n",
            "Layer (type)                 Output Shape              Param #   \n",
            "=================================================================\n",
            "conv2d_9 (Conv2D)            (None, 30, 30, 32)        896       \n",
            "_________________________________________________________________\n",
            "conv2d_10 (Conv2D)           (None, 28, 28, 32)        9248      \n",
            "_________________________________________________________________\n",
            "max_pooling2d_5 (MaxPooling2 (None, 14, 14, 32)        0         \n",
            "_________________________________________________________________\n",
            "dropout_7 (Dropout)          (None, 14, 14, 32)        0         \n",
            "_________________________________________________________________\n",
            "conv2d_11 (Conv2D)           (None, 12, 12, 64)        18496     \n",
            "_________________________________________________________________\n",
            "conv2d_12 (Conv2D)           (None, 10, 10, 64)        36928     \n",
            "_________________________________________________________________\n",
            "max_pooling2d_6 (MaxPooling2 (None, 5, 5, 64)          0         \n",
            "_________________________________________________________________\n",
            "flatten_3 (Flatten)          (None, 1600)              0         \n",
            "_________________________________________________________________\n",
            "dropout_8 (Dropout)          (None, 1600)              0         \n",
            "_________________________________________________________________\n",
            "dense_5 (Dense)              (None, 512)               819712    \n",
            "_________________________________________________________________\n",
            "dropout_9 (Dropout)          (None, 512)               0         \n",
            "_________________________________________________________________\n",
            "dense_6 (Dense)              (None, 10)                5130      \n",
            "=================================================================\n",
            "Total params: 890,410\n",
            "Trainable params: 890,410\n",
            "Non-trainable params: 0\n",
            "_________________________________________________________________\n"
          ],
          "name": "stdout"
        }
      ]
    },
    {
      "cell_type": "code",
      "metadata": {
        "id": "SOXG_MtwNHmF",
        "colab_type": "code",
        "colab": {}
      },
      "source": [
        "# extraer outputs\n",
        "from keras import models\n",
        "\n",
        "output_layers = [layer.output for layer in model_augmentation.layers[:7]]\n",
        "activation_model = models.Model(inputs=model_augmentation.input, outputs=output_layers)"
      ],
      "execution_count": 0,
      "outputs": []
    },
    {
      "cell_type": "code",
      "metadata": {
        "id": "piy9J5ODNHmJ",
        "colab_type": "code",
        "outputId": "9a8f3737-fda5-4bb8-cfb0-5d8b056485e8",
        "colab": {
          "base_uri": "https://localhost:8080/",
          "height": 269
        }
      },
      "source": [
        "import matplotlib.pyplot as plt\n",
        "%matplotlib inline\n",
        "\n",
        "# imagen \n",
        "sample = 40\n",
        "input_img = x_train[sample].reshape((1,32,32,3))\n",
        "plt.imshow(image.array_to_img(x_train[sample]))\n",
        "plt.show()"
      ],
      "execution_count": 0,
      "outputs": [
        {
          "output_type": "display_data",
          "data": {
            "image/png": "[encoded data removed]",
            "text/plain": [
              "<Figure size 432x288 with 1 Axes>"
            ]
          },
          "metadata": {
            "tags": []
          }
        }
      ]
    },
    {
      "cell_type": "code",
      "metadata": {
        "id": "hVP3qmz5NHmN",
        "colab_type": "code",
        "outputId": "d1010968-aed1-447c-f896-3d8c01bad245",
        "colab": {
          "base_uri": "https://localhost:8080/",
          "height": 34
        }
      },
      "source": [
        "# activacion, 32 canales, feature map de 30x30\n",
        "layer = 0\n",
        "activations = activation_model.predict(input_img)\n",
        "layer_activation = activations[layer]\n",
        "print(layer_activation.shape)"
      ],
      "execution_count": 0,
      "outputs": [
        {
          "output_type": "stream",
          "text": [
            "(1, 30, 30, 32)\n"
          ],
          "name": "stdout"
        }
      ]
    },
    {
      "cell_type": "code",
      "metadata": {
        "id": "YUY5iSlfNHmR",
        "colab_type": "code",
        "outputId": "65e8801d-c3f0-4508-aeea-d029b1895b5d",
        "colab": {
          "base_uri": "https://localhost:8080/",
          "height": 292
        }
      },
      "source": [
        "# mostrar cualquier canal\n",
        "channel = 12\n",
        "plt.matshow(layer_activation[0,:,:,channel], cmap='jet')"
      ],
      "execution_count": 0,
      "outputs": [
        {
          "output_type": "execute_result",
          "data": {
            "text/plain": [
              "<matplotlib.image.AxesImage at 0x7f1ac2339f98>"
            ]
          },
          "metadata": {
            "tags": []
          },
          "execution_count": 31
        },
        {
          "output_type": "display_data",
          "data": {
            "image/png": "[encoded data removed]",
            "text/plain": [
              "<Figure size 288x288 with 1 Axes>"
            ]
          },
          "metadata": {
            "tags": []
          }
        }
      ]
    },
    {
      "cell_type": "code",
      "metadata": {
        "id": "bTtUICHbNHmU",
        "colab_type": "code",
        "outputId": "e2b9aaab-0878-479c-fb02-88e1f5977d46",
        "colab": {
          "base_uri": "https://localhost:8080/",
          "height": 1000
        }
      },
      "source": [
        "import numpy as np\n",
        "# visualizar todas las capas\n",
        "layer_names = [layer.name for layer in model_augmentation.layers[:7]]\n",
        "images_per_row = 16\n",
        "display_grid = []\n",
        "for layer_name, layer_activation in zip(layer_names,activations):\n",
        "    # numero de features\n",
        "    n_features = layer_activation.shape[-1]\n",
        "    # tamanyo de cada feature\n",
        "    size = layer_activation.shape[1]\n",
        "    # numero de columnas a mostrar\n",
        "    n_cols = n_features // images_per_row\n",
        "    \n",
        "    display_grid = np.zeros((size * n_cols, images_per_row * size))\n",
        "    \n",
        "    for col in range(n_cols):\n",
        "        for row in range(images_per_row):\n",
        "            channel_img = layer_activation[0,:,:,col * images_per_row + row]\n",
        "            display_grid[col * size : (col + 1) * size,\n",
        "                        row * size : (row + 1) * size] = channel_img\n",
        "    scale = 1. / size\n",
        "    plt.figure(figsize=(scale * display_grid.shape[1],\n",
        "                       scale * display_grid.shape[0]))\n",
        "    plt.title('Activacion de las capas')\n",
        "    plt.grid(False)\n",
        "    plt.imshow(display_grid,aspect='auto',cmap='jet')\n"
      ],
      "execution_count": 0,
      "outputs": [
        {
          "output_type": "display_data",
          "data": {
            "image/png": "[encoded data removed]",
            "text/plain": [
              "<Figure size 1152x144 with 1 Axes>"
            ]
          },
          "metadata": {
            "tags": []
          }
        },
        {
          "output_type": "display_data",
          "data": {
            "image/png": "[encoded data removed]",
            "text/plain": [
              "<Figure size 1152x144 with 1 Axes>"
            ]
          },
          "metadata": {
            "tags": []
          }
        },
        {
          "output_type": "display_data",
          "data": {
            "image/png": "[encoded data removed]",
            "text/plain": [
              "<Figure size 1152x144 with 1 Axes>"
            ]
          },
          "metadata": {
            "tags": []
          }
        },
        {
          "output_type": "display_data",
          "data": {
            "image/png": "[encoded data removed]",
            "text/plain": [
              "<Figure size 1152x144 with 1 Axes>"
            ]
          },
          "metadata": {
            "tags": []
          }
        },
        {
          "output_type": "display_data",
          "data": {
            "image/png": "[encoded data removed]",
            "text/plain": [
              "<Figure size 1152x288 with 1 Axes>"
            ]
          },
          "metadata": {
            "tags": []
          }
        },
        {
          "output_type": "display_data",
          "data": {
            "image/png": "[encoded data removed]",
            "text/plain": [
              "<Figure size 1152x288 with 1 Axes>"
            ]
          },
          "metadata": {
            "tags": []
          }
        },
        {
          "output_type": "display_data",
          "data": {
            "image/png": "[encoded data removed]",
            "text/plain": [
              "<Figure size 1152x288 with 1 Axes>"
            ]
          },
          "metadata": {
            "tags": []
          }
        }
      ]
    },
    {
      "cell_type": "markdown",
      "metadata": {
        "id": "HJp-qx1cNHmg",
        "colab_type": "text"
      },
      "source": [
        "### Interpretacion\n",
        "- Capas iniciales son como detectores de bordes\n",
        "- Capas más profundas son maas difíciles de interpretar (abstractas) y tienen info relativa a la clase de imagen\n",
        "- La activación de capas profundas es más dispersa (sparse)"
      ]
    },
    {
      "cell_type": "markdown",
      "metadata": {
        "id": "TnVLRy4-NHmg",
        "colab_type": "text"
      },
      "source": [
        "## Visualizando filtros convolucionales\n",
        "- Visualizar las imagenes que maximizan la respuesta a un filtro"
      ]
    },
    {
      "cell_type": "code",
      "metadata": {
        "id": "1bpWxzCTNHmg",
        "colab_type": "code",
        "colab": {}
      },
      "source": [
        "from keras.applications import VGG16\n",
        "from keras import backend as K\n",
        "\n",
        "model = VGG16(weights='imagenet',include_top=False)"
      ],
      "execution_count": 0,
      "outputs": []
    },
    {
      "cell_type": "code",
      "metadata": {
        "id": "vklaIPySNHmi",
        "colab_type": "code",
        "colab": {}
      },
      "source": [
        "import numpy as np\n",
        "\n",
        "def gen_max_response_pattern(layer_name, filter_index, size=32):\n",
        "    layer_output = model.get_layer(layer_name).output\n",
        "    loss = K.mean(layer_output[:,:,:,filter_index])\n",
        "    \n",
        "    # para obtener el patron que responde de forma maxima, utilizamos descenso del gradiente\n",
        "    grads = K.gradients(loss,model.input)[0] # seleccionar el primero, ya que esto devuelve una lista\n",
        "    # normalizacion para ayudar al proceso del gradiente\n",
        "    grads /= (K.sqrt(K.mean(K.square(grads))) + 1e-5) # ultima constante para evitar dividir por 0\n",
        "    # definir funcion que calcula la perdida y el gradiente de la imagen\n",
        "    iterate = K.function([model.input], [loss,grads])\n",
        "    loss_value, grads_value = iterate([np.zeros((1,size,size,3))])\n",
        "    \n",
        "    # iniciamos con imagen aleatoria\n",
        "    input_img_data = np.random.random((1,size,size,3)) * 20 + 128\n",
        "\n",
        "    step = 1. # magnitud de cada actualizacion en el gradiente\n",
        "    n_steps = 40 # numero de iteraciones\n",
        "    for i in range(n_steps):\n",
        "        loss_value, grads_value = iterate([input_img_data])\n",
        "        input_img_data += grads_value * step\n",
        "    img = input_img_data[0]\n",
        "    # procesar la imagen resultante\n",
        "    img -= img.mean()\n",
        "    img /= img.std() + 1e-5\n",
        "    img *= 0.1\n",
        "    img += 0.5\n",
        "    img = np.clip(img,0,1)\n",
        "    img *= 255\n",
        "    img = np.clip(img,0,255).astype('uint8')\n",
        "    \n",
        "    return img"
      ],
      "execution_count": 0,
      "outputs": []
    },
    {
      "cell_type": "code",
      "metadata": {
        "id": "f7dPR_XDNHmt",
        "colab_type": "code",
        "outputId": "eff027ea-47f4-4b37-f07c-b658eaea9d30",
        "colab": {
          "base_uri": "https://localhost:8080/",
          "height": 286
        }
      },
      "source": [
        "# mostrar un patron para un filtro\n",
        "import matplotlib.pyplot as plt\n",
        "%matplotlib inline\n",
        "\n",
        "layer_name = 'block3_conv1'\n",
        "filter_index = 128 # canal a estudiar\n",
        "\n",
        "img = gen_max_response_pattern(layer_name,filter_index,32)\n",
        "plt.imshow(img)"
      ],
      "execution_count": 0,
      "outputs": [
        {
          "output_type": "execute_result",
          "data": {
            "text/plain": [
              "<matplotlib.image.AxesImage at 0x7f1ac1f7d9b0>"
            ]
          },
          "metadata": {
            "tags": []
          },
          "execution_count": 36
        },
        {
          "output_type": "display_data",
          "data": {
            "image/png": "[encoded data removed]",
            "text/plain": [
              "<Figure size 432x288 with 1 Axes>"
            ]
          },
          "metadata": {
            "tags": []
          }
        }
      ]
    },
    {
      "cell_type": "markdown",
      "metadata": {
        "id": "aBdd-qvdNHmv",
        "colab_type": "text"
      },
      "source": [
        "### Ejercicio\n",
        "Mostrar los patrones de maxima activacion para todos los filtros de una capa"
      ]
    },
    {
      "cell_type": "markdown",
      "metadata": {
        "id": "psj1EvKvNHmw",
        "colab_type": "text"
      },
      "source": [
        "## Visualización de heatmaps de activacion por clase\n",
        "- Útil para averiguar qué partes de la imagen contribuyen más a la decisión\n",
        "- Interesante para saber qué pasa cuando se cometen errores"
      ]
    },
    {
      "cell_type": "code",
      "metadata": {
        "id": "pd_PfCGmNHmx",
        "colab_type": "code",
        "outputId": "46d70b0c-0489-424f-e20d-200fb6b1fcf3",
        "colab": {
          "base_uri": "https://localhost:8080/",
          "height": 51
        }
      },
      "source": [
        "# tecnica utiliza gradientes Ramprasaath, R. Selvaraju et al. (2017). https://arxiv.org/abs/1610.02391\n",
        "from keras.applications import VGG16\n",
        "\n",
        "model = VGG16(weights='imagenet',include_top=True)"
      ],
      "execution_count": 0,
      "outputs": [
        {
          "output_type": "stream",
          "text": [
            "Downloading data from https://github.com/fchollet/deep-learning-models/releases/download/v0.1/vgg16_weights_tf_dim_ordering_tf_kernels.h5\n",
            "553467904/553467096 [==============================] - 49s 0us/step\n"
          ],
          "name": "stdout"
        }
      ]
    },
    {
      "cell_type": "code",
      "metadata": {
        "id": "reuCIeynNHmy",
        "colab_type": "code",
        "colab": {}
      },
      "source": [
        "from keras.preprocessing import image \n",
        "from keras.applications.vgg16 import preprocess_input, decode_predictions\n",
        "import numpy as np\n",
        "\n",
        "# cargar imagen de perro\n",
        "img = image.load_img(BASE_FOLDER+'resources/cat.jpg', target_size=(224,224))\n",
        "x = image.img_to_array(img) # a array de (224,224,3)\n",
        "x = np.expand_dims(x, axis=0) # a array de (1,224,224,3)\n",
        "x = preprocess_input(x)"
      ],
      "execution_count": 0,
      "outputs": []
    },
    {
      "cell_type": "code",
      "metadata": {
        "id": "g2eePG0wNHmz",
        "colab_type": "code",
        "outputId": "66c6966b-1a06-45ce-ffe0-09df1ac8b113",
        "colab": {
          "base_uri": "https://localhost:8080/",
          "height": 88
        }
      },
      "source": [
        "# testeando el output\n",
        "prediction = model.predict(x)\n",
        "print(decode_predictions(prediction))"
      ],
      "execution_count": 0,
      "outputs": [
        {
          "output_type": "stream",
          "text": [
            "Downloading data from https://storage.googleapis.com/download.tensorflow.org/data/imagenet_class_index.json\n",
            "40960/35363 [==================================] - 0s 0us/step\n",
            "[[('n02123045', 'tabby', 0.3503666), ('n02124075', 'Egyptian_cat', 0.32183623), ('n02123159', 'tiger_cat', 0.2860135), ('n02127052', 'lynx', 0.013260278), ('n04040759', 'radiator', 0.0008939235)]]\n"
          ],
          "name": "stdout"
        }
      ]
    },
    {
      "cell_type": "code",
      "metadata": {
        "id": "ukvcCRaLNHm1",
        "colab_type": "code",
        "colab": {}
      },
      "source": [
        "tabbycat_output_index = np.argmax(prediction[0])\n",
        "tabbycat_output = model.output[:,tabbycat_output_index]\n",
        "last_conv_layer = model.get_layer('block5_conv3')"
      ],
      "execution_count": 0,
      "outputs": []
    },
    {
      "cell_type": "code",
      "metadata": {
        "id": "AXwixXFKNHnJ",
        "colab_type": "code",
        "outputId": "db636fc0-f72a-473a-f932-e5b921fe9d39",
        "colab": {
          "base_uri": "https://localhost:8080/",
          "height": 217
        }
      },
      "source": [
        "import matplotlib.pyplot as plt\n",
        "%matplotlib inline\n",
        "from keras import backend as K\n",
        "\n",
        "grads = K.gradients(tabbycat_output, last_conv_layer.output)[0]\n",
        "pooled_grads = K.mean(grads, axis=(0,1,2))\n",
        "iterate = K.function( [model.input], [pooled_grads, last_conv_layer.output[0]])\n",
        "pooled_grads_value, conv_layer_output_value = iterate([x])\n",
        "\n",
        "# multiplicar cada canal en el feature map por como de importante el canal es con respecto a la clase \"tabby\"\n",
        "for i in range(512):\n",
        "    conv_layer_output_value[:,:,i] *= pooled_grads_value[i]\n",
        "\n",
        "heatmap = np.mean(conv_layer_output_value, axis=-1)\n",
        "\n",
        "# visualizar\n",
        "heatmap = np.maximum(heatmap,0)\n",
        "heatmap /= np.max(heatmap)\n",
        "fig,axes = plt.subplots(1,2)\n",
        "axes[0].matshow(heatmap)\n",
        "axes[1].imshow(img)\n",
        "plt.show()"
      ],
      "execution_count": 0,
      "outputs": [
        {
          "output_type": "display_data",
          "data": {
            "image/png": "[encoded data removed]",
            "text/plain": [
              "<Figure size 432x288 with 2 Axes>"
            ]
          },
          "metadata": {
            "tags": []
          }
        }
      ]
    },
    {
      "cell_type": "markdown",
      "metadata": {
        "id": "BjwW0XUHNHnM",
        "colab_type": "text"
      },
      "source": [
        "### Ejercicio\n",
        "Obtener el heatmap para las otras clases en la lista de prediccion (Egyptian_cat, tiger_cat, etc.)"
      ]
    }
  ]
}