{
 "cells": [
  {
   "cell_type": "markdown",
   "metadata": {},
   "source": [
    "# Actividad Guiada 3\n",
    "Estudiante: Efraín Paucar\n",
    "https://github.com/EfrainPaucar/03-MAIR---Algoritmos-de-optimizacion-2019/blob/master/AG3/Efrain_Paucar_Castillo_AG3.ipynb"
   ]
  },
  {
   "cell_type": "code",
   "execution_count": null,
   "metadata": {},
   "outputs": [],
   "source": [
    "import urllib.request"
   ]
  },
  {
   "cell_type": "code",
   "execution_count": 5,
   "metadata": {},
   "outputs": [],
   "source": [
    "file = \"swiss42.tsp\""
   ]
  },
  {
   "cell_type": "code",
   "execution_count": 6,
   "metadata": {},
   "outputs": [
    {
     "data": {
      "text/plain": [
       "('swiss42.tsp', <http.client.HTTPMessage at 0x9208ba8>)"
      ]
     },
     "execution_count": 6,
     "metadata": {},
     "output_type": "execute_result"
    }
   ],
   "source": [
    "urllib.request.urlretrieve(\"http://elib.zib.de/pub/mp-testdata/tsp/tsplib/tsp/swiss42.tsp\",file)"
   ]
  },
  {
   "cell_type": "code",
   "execution_count": 7,
   "metadata": {},
   "outputs": [],
   "source": [
    "import tsplib95\n",
    "import random\n",
    "from math import e"
   ]
  },
  {
   "cell_type": "code",
   "execution_count": 8,
   "metadata": {},
   "outputs": [],
   "source": [
    "problem = tsplib95.load_problem(file)\n",
    "\n",
    "#Nodos\n",
    "Nodos = list(problem.get_nodes())\n",
    "\n",
    "#Aristas\n",
    "Aristas = list(problem.get_edges())"
   ]
  },
  {
   "cell_type": "code",
   "execution_count": 15,
   "metadata": {},
   "outputs": [],
   "source": [
    "#Se genera una solución aleatoria con comienzo en el nodo 0\n",
    "def crear_solucion(Nodos):\n",
    "    solucion = [0]\n",
    "    \n",
    "    for i in range (len(Nodos)-1):\n",
    "        solucion = solucion + [random.choice(list(set(Nodos)-set({0})-set(solucion)))]\n",
    "    return solucion\n",
    "\n",
    "#Devuelve la distancia entre 2 nodos\n",
    "def distancia(a,b,problem):\n",
    "    return problem.wfunc(a,b)\n",
    "\n",
    "#Devuelve la distancia total de una trayectoria/solucion\n",
    "def distancia_total(solucion,problem):\n",
    "    distancia_total = 0\n",
    "    for i in range(len(solucion)-1):\n",
    "        distancia_total+=distancia(solucion[i],solucion[i+1],problem)\n",
    "    return distancia_total + distancia(solucion[len(solucion)-1],solucion[0],problem)"
   ]
  },
  {
   "cell_type": "code",
   "execution_count": 16,
   "metadata": {},
   "outputs": [],
   "source": [
    "#Búsqueda aleatoria\n",
    "def busqueda_aleatoria(problem,N):\n",
    "    #problem = datos del problema\n",
    "    #N = número de iteraciones\n",
    "    \n",
    "    #Nodos\n",
    "    Nodos = list(problem.get_nodes())\n",
    "    \n",
    "    mejor_solucion = []\n",
    "    mejor_distancia = 10e100\n",
    "    for i in range(N):\n",
    "        solucion = crear_solucion(Nodos)\n",
    "        distancia_solucion = distancia_total(solucion,problem)\n",
    "        if distancia_solucion < mejor_distancia:\n",
    "            mejor_solucion = solucion\n",
    "            mejor_distancia = distancia_solucion\n",
    "            \n",
    "        print(\"la mejor solucion encontrada es: \", end=\"\")\n",
    "        print(solucion)\n",
    "        print(\"con una distancia total de: \", end=\"\")\n",
    "        print(mejor_distancia)\n",
    "        return mejor_solucion"
   ]
  },
  {
   "cell_type": "code",
   "execution_count": 17,
   "metadata": {},
   "outputs": [
    {
     "name": "stdout",
     "output_type": "stream",
     "text": [
      "la mejor solucion encontrada es: [0, 10, 17, 28, 22, 38, 2, 27, 37, 23, 19, 26, 35, 7, 39, 25, 16, 41, 18, 1, 14, 20, 33, 36, 15, 12, 13, 8, 3, 29, 40, 24, 21, 34, 9, 32, 31, 4, 11, 30, 6, 5]\n",
      "con una distancia total de: 4196\n"
     ]
    },
    {
     "data": {
      "text/plain": [
       "[0,\n",
       " 10,\n",
       " 17,\n",
       " 28,\n",
       " 22,\n",
       " 38,\n",
       " 2,\n",
       " 27,\n",
       " 37,\n",
       " 23,\n",
       " 19,\n",
       " 26,\n",
       " 35,\n",
       " 7,\n",
       " 39,\n",
       " 25,\n",
       " 16,\n",
       " 41,\n",
       " 18,\n",
       " 1,\n",
       " 14,\n",
       " 20,\n",
       " 33,\n",
       " 36,\n",
       " 15,\n",
       " 12,\n",
       " 13,\n",
       " 8,\n",
       " 3,\n",
       " 29,\n",
       " 40,\n",
       " 24,\n",
       " 21,\n",
       " 34,\n",
       " 9,\n",
       " 32,\n",
       " 31,\n",
       " 4,\n",
       " 11,\n",
       " 30,\n",
       " 6,\n",
       " 5]"
      ]
     },
     "execution_count": 17,
     "metadata": {},
     "output_type": "execute_result"
    }
   ],
   "source": [
    "busqueda_aleatoria(problem,10)"
   ]
  },
  {
   "cell_type": "code",
   "execution_count": 18,
   "metadata": {},
   "outputs": [],
   "source": [
    "#Búsqueda loca, generador de vecindad\n",
    "def genera_vecina(solucion):\n",
    "    #Generador de soluciones vecinas:2-opt (intercambiar 2 nodos) Si hay N nodos se generan (N-1)x(N-2)/2 soluciones\n",
    "    mejor_solucion = []\n",
    "    mejor_distancia = 10e100\n",
    "    for i in range(1,len(solucion)-1):\n",
    "        for j in range(i+1,len(solucion)):\n",
    "            vecina = solucion[:i] + [solucion[j]]+solucion[i+1:j]+[solucion[i]]+solucion[j+1:]\n",
    "            distancia_vecina = distancia_total(vecina,problem)\n",
    "            if distancia_vecina <= mejor_distancia:\n",
    "                mejor_distancia = distancia_vecina\n",
    "                mejor_solucion = vecina\n",
    "    return mejor_solucion"
   ]
  },
  {
   "cell_type": "code",
   "execution_count": 20,
   "metadata": {},
   "outputs": [],
   "source": [
    "#Búsqueda local:\n",
    "def busqueda_local(problem,N):\n",
    "    #problem = datos del problema\n",
    "    #N = número de iteraciones\n",
    "    mejor_solucion = []\n",
    "    mejor_distancia = 10e100\n",
    "    \n",
    "    solucion_referencia = crear_solucion(Nodos)\n",
    "    \n",
    "    for i in range(N):\n",
    "        vecina = genera_vecina(solucion_referencia)\n",
    "        distancia_vecina = distancia_total(vecina,problem)\n",
    "        if distancia_vecina <= mejor_distancia:\n",
    "            mejor_solucion = vecina\n",
    "            mejor_distancia = distancia_vecina\n",
    "        \n",
    "        solucion_referencia = vecina\n",
    "        \n",
    "        print(\"la mejor solucion encontrada es: \", end=\"\")\n",
    "        print(mejor_solucion)\n",
    "        print(\"con una distancia total de: \", end=\"\")\n",
    "        print(mejor_distancia)\n",
    "        return mejor_solucion\n"
   ]
  },
  {
   "cell_type": "code",
   "execution_count": 21,
   "metadata": {},
   "outputs": [
    {
     "name": "stdout",
     "output_type": "stream",
     "text": [
      "la mejor solucion encontrada es: [0, 18, 33, 24, 21, 22, 6, 19, 34, 26, 17, 4, 31, 30, 35, 29, 12, 8, 14, 2, 32, 38, 40, 27, 36, 16, 13, 39, 28, 1, 3, 11, 10, 9, 41, 25, 23, 7, 20, 5, 15, 37]\n",
      "con una distancia total de: 4195\n"
     ]
    }
   ],
   "source": [
    "sol = busqueda_local(problem,100)"
   ]
  },
  {
   "cell_type": "code",
   "execution_count": 27,
   "metadata": {},
   "outputs": [],
   "source": [
    "#Recocido Simulado - SA. \n",
    "#Función de probabilidad para aceptar peores soluciones\n",
    "def probabilidad(T,d):\n",
    "    r=random.random()\n",
    "    if r >= (e**(-1*d)/((T*0.5*10**(-5)))):\n",
    "        return True\n",
    "    else:\n",
    "        return False\n",
    "    \n",
    "#Función de descenso de temperatura\n",
    "def bajar_Temperatura(T):\n",
    "    return T*0.9\n",
    "\n",
    "def recocido_simulado(problem, TEMPERATURA):\n",
    "    #problem = datos del problema\n",
    "    #T = Temperatura\n",
    "    \n",
    "    solucion_referencia = crear_solucion(Nodos)\n",
    "    distancia_referencia = distancia_total(solucion_referencia,problem)\n",
    "    \n",
    "    mejor_solucion = []\n",
    "    mejor_distancia = 10e100\n",
    "    \n",
    "    while TEMPERATURA > 1:\n",
    "        print(\"#Temperatura:\",TEMPERATURA, \"Fitness:\", mejor_distancia)\n",
    "        #Genera una solucion vecina\n",
    "        vecina = genera_vecina(solucion_referencia)\n",
    "        \n",
    "        #Calcula su valor(distancia)\n",
    "        distancia_vecina = distancia_total(vecina,problem)\n",
    "        \n",
    "        #Si es la mejor solucion de todas se guarda\n",
    "        if distancia_vecina < mejor_distancia:\n",
    "            mejor_solucion = vecina\n",
    "            mejor_distancia = distancia_vecina\n",
    "            \n",
    "        #Si la nueva vecina es mejor se cambia y si es peor se cambia según una probabilidad dependiente de T y de distancia_referencia - distancia\n",
    "        if distancia_vecina < distancia_referencia or probabilidad(TEMPERATURA, abs(distancia_referencia - distancia_vecina)):\n",
    "            solucion_referencia = vecina\n",
    "            mejor_distancia = distancia_vecina\n",
    "            \n",
    "        TEMPERATURA = bajar_Temperatura(TEMPERATURA)"
   ]
  },
  {
   "cell_type": "code",
   "execution_count": 28,
   "metadata": {},
   "outputs": [
    {
     "name": "stdout",
     "output_type": "stream",
     "text": [
      "#Temperatura: 10 Fitness: 1e+101\n",
      "#Temperatura: 9.0 Fitness: 4608\n",
      "#Temperatura: 8.1 Fitness: 4262\n",
      "#Temperatura: 7.29 Fitness: 3923\n",
      "#Temperatura: 6.561 Fitness: 3592\n",
      "#Temperatura: 5.9049000000000005 Fitness: 3386\n",
      "#Temperatura: 5.3144100000000005 Fitness: 3189\n",
      "#Temperatura: 4.7829690000000005 Fitness: 3024\n",
      "#Temperatura: 4.3046721 Fitness: 2865\n",
      "#Temperatura: 3.8742048900000006 Fitness: 2713\n",
      "#Temperatura: 3.4867844010000004 Fitness: 2599\n",
      "#Temperatura: 3.1381059609000004 Fitness: 2504\n",
      "#Temperatura: 2.82429536481 Fitness: 2442\n",
      "#Temperatura: 2.541865828329 Fitness: 2355\n",
      "#Temperatura: 2.2876792454961 Fitness: 2301\n",
      "#Temperatura: 2.05891132094649 Fitness: 2247\n",
      "#Temperatura: 1.853020188851841 Fitness: 2194\n",
      "#Temperatura: 1.6677181699666568 Fitness: 2148\n",
      "#Temperatura: 1.5009463529699911 Fitness: 2106\n",
      "#Temperatura: 1.350851717672992 Fitness: 2071\n",
      "#Temperatura: 1.2157665459056928 Fitness: 2048\n",
      "#Temperatura: 1.0941898913151236 Fitness: 2026\n"
     ]
    }
   ],
   "source": [
    "recocido_simulado(problem,10)"
   ]
  },
  {
   "cell_type": "code",
   "execution_count": null,
   "metadata": {},
   "outputs": [],
   "source": []
  }
 ],
 "metadata": {
  "kernelspec": {
   "display_name": "Python 3",
   "language": "python",
   "name": "python3"
  },
  "language_info": {
   "codemirror_mode": {
    "name": "ipython",
    "version": 3
   },
   "file_extension": ".py",
   "mimetype": "text/x-python",
   "name": "python",
   "nbconvert_exporter": "python",
   "pygments_lexer": "ipython3",
   "version": "3.7.3"
  }
 },
 "nbformat": 4,
 "nbformat_minor": 2
}
