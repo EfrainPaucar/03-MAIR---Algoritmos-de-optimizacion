{
 "cells": [
  {
   "cell_type": "markdown",
   "metadata": {},
   "source": [
    "## Actividad Guiada 2 - Programación Dinámica\n",
    "\n",
    "Estudiante: Efraín Paucar Castillo"
   ]
  },
  {
   "cell_type": "code",
   "execution_count": 4,
   "metadata": {},
   "outputs": [
    {
     "name": "stdout",
     "output_type": "stream",
     "text": [
      "Ruta óptima para ir del nodo (0) al nodo (6): -0-2-5\n",
      "\n",
      "\n"
     ]
    }
   ],
   "source": [
    "#Carga de datos de tarifas del caso del viajero. Para las rutas inexistentes valores muy altos 999 de precios.\n",
    "TARIFAS = [\n",
    "[0,5,4,3,999,999,999],\n",
    "[999,0,999,2,3,999,11],\n",
    "[999,999, 0,1,999,4,10],\n",
    "[999,999,999, 0,5,6,9],\n",
    "[999,999, 999,999,0,999,4],\n",
    "[999,999, 999,999,999,0,3],\n",
    "[999,999,999,999,999,999,0]]\n",
    "\n",
    "def Precios(TARIFAS):\n",
    "  #Total de Nodos\n",
    "  N = len(TARIFAS[0])\n",
    "  \n",
    "  #Inicialización de la tabla de precios\n",
    "  PRECIOS = [ [9999]*N for i in [9999]*N ]\n",
    "  RUTA = [ [\"\"]*N for i in [\"\"]*N ]\n",
    "  \n",
    "  for i in range(N-1):\n",
    "    for j in range(i+1,N):\n",
    "      MIN = TARIFAS[i][j]\n",
    "      RUTA[i][j] = i\n",
    "      \n",
    "      for k in range(i,j):\n",
    "        if PRECIOS[i][k] + TARIFAS[k][j] < MIN:\n",
    "          MIN = PRECIOS[i][k] + TARIFAS[k][j]\n",
    "          RUTA[i][j] = k\n",
    "          \n",
    "      PRECIOS[i][j] = MIN\n",
    "  return PRECIOS, RUTA\n",
    "\n",
    "#Probando los resultados\n",
    "PRECIOS, RUTA = Precios(TARIFAS)\n",
    "#print(PRECIOS)\n",
    "#print(RUTA)\n",
    "\n",
    "def calcular_ruta(RUTA, desde, hasta):\n",
    "  if desde == hasta:\n",
    "    return ''#antes desde\n",
    "  \n",
    "  else:\n",
    "    return str(calcular_ruta(RUTA, desde, RUTA[desde][hasta]))+'-'+str(RUTA[desde][hasta])\n",
    "\n",
    "#Probamos el algoritmo para ir de 0 a 6:\n",
    "print('Ruta óptima para ir del nodo (0) al nodo (6): '+calcular_ruta(RUTA,0,6))\n",
    "print('')\n",
    "print('')"
   ]
  },
  {
   "cell_type": "markdown",
   "metadata": {},
   "source": [
    "## Actividad Guiada 2 - Ramificación y Poda"
   ]
  },
  {
   "cell_type": "code",
   "execution_count": 20,
   "metadata": {},
   "outputs": [],
   "source": [
    "#Librerías para cálculo de tiempos de ejecución\n",
    "import itertools\n",
    "from functools import wraps\n",
    "\n",
    "#función decorador para calcular tiempos\n",
    "def calcular_tiempo(f):\n",
    "    @wraps(f)\n",
    "    def cronometro(*args, **kwargs):\n",
    "        t_inicial = time()\n",
    "        salida = f(*args, **kwargs)\n",
    "        t_final = time()\n",
    "        print('Tiempo transcurrido (en segundos): {}'.format(t_final - t_inicial))\n",
    "        return salida\n",
    "    return cronometro"
   ]
  },
  {
   "cell_type": "code",
   "execution_count": 21,
   "metadata": {},
   "outputs": [],
   "source": [
    "#Caso de asignación de tareas a N agentes\n",
    "COSTES=[[11,12,18,40],\n",
    "        [14,15,13,22],\n",
    "        [11,17,19,23],\n",
    "        [17,14,20,28]]"
   ]
  },
  {
   "cell_type": "code",
   "execution_count": 22,
   "metadata": {},
   "outputs": [
    {
     "data": {
      "text/plain": [
       "73"
      ]
     },
     "execution_count": 22,
     "metadata": {},
     "output_type": "execute_result"
    }
   ],
   "source": [
    "def valor(S, COSTES):\n",
    "    VALOR = 0\n",
    "    #Valores establecidos\n",
    "    for i in range(len(S)):\n",
    "        VALOR += COSTES[i][S[i]]\n",
    "      \n",
    "    return VALOR\n",
    "\n",
    "#Probamos algoritmo\n",
    "valor((0,1,2,3),COSTES)"
   ]
  },
  {
   "cell_type": "code",
   "execution_count": 26,
   "metadata": {},
   "outputs": [
    {
     "data": {
      "text/plain": [
       "59"
      ]
     },
     "execution_count": 26,
     "metadata": {},
     "output_type": "execute_result"
    }
   ],
   "source": [
    "def CI(S,COSTES):\n",
    "    VALOR = 0\n",
    "    \n",
    "    for i in range(len(S)):\n",
    "        VALOR += COSTES[i][S[i]]\n",
    "    \n",
    "     #Estimación\n",
    "    for i in range(len(COSTES)):\n",
    "        if i not in S:\n",
    "            VALOR += min([ COSTES[j][i] for j in range(len(S), len(COSTES)) ])\n",
    "                          \n",
    "    return VALOR\n",
    "\n",
    "CI((1,2),COSTES)"
   ]
  },
  {
   "cell_type": "code",
   "execution_count": 28,
   "metadata": {},
   "outputs": [
    {
     "data": {
      "text/plain": [
       "[{'s': (0, 2, 1)}, {'s': (0, 2, 3)}]"
      ]
     },
     "execution_count": 28,
     "metadata": {},
     "output_type": "execute_result"
    }
   ],
   "source": [
    "def crear_hijos(NODO,N):\n",
    "    HIJOS = []\n",
    "    for i in range(N):\n",
    "        if i not in NODO:\n",
    "            HIJOS.append( {'s':NODO+(i,)} )\n",
    "    return HIJOS\n",
    "\n",
    "crear_hijos((0,2),4)"
   ]
  },
  {
   "cell_type": "code",
   "execution_count": 35,
   "metadata": {},
   "outputs": [
    {
     "name": "stdout",
     "output_type": "stream",
     "text": [
      "[{'s': (), 'ci': 58}]\n",
      "\n",
      "# 1\n",
      "{'s': (), 'ci': 58}\n",
      "la mejor solucion es:  (0, 1, 2, 3)\n",
      "\n",
      "# 2\n",
      "{'s': (1,), 'ci': 58}\n",
      "la mejor solucion es:  (0, 1, 2, 3)\n",
      "\n",
      "# 3\n",
      "{'s': (1, 2), 'ci': 59}\n",
      "la mejor solucion es:  (0, 1, 2, 3)\n",
      "\n",
      "# 4\n",
      "{'s': (0,), 'ci': 60}\n",
      "la mejor solucion es:  (0, 1, 2, 3)\n",
      "\n",
      "# 5\n",
      "{'s': (0, 2), 'ci': 61}\n",
      "la mejor solucion es:  (0, 1, 2, 3)\n",
      "\n",
      "# 6\n",
      "{'s': (0, 2, 3), 'ci': 61}\n",
      "la mejor solucion es:  {'s': (0, 2, 3, 1), 'ci': 61}\n",
      "\n",
      "# 7\n",
      "{'s': (1, 3), 'ci': 64}\n",
      "la mejor solucion es:  {'s': (0, 2, 3, 1), 'ci': 61}\n",
      "\n",
      "# 8\n",
      "{'s': (1, 2, 0), 'ci': 64}\n",
      "la mejor solucion es:  {'s': (0, 2, 3, 1), 'ci': 61}\n",
      "\n",
      "# 9\n",
      "{'s': (2,), 'ci': 65}\n",
      "la mejor solucion es:  {'s': (0, 2, 3, 1), 'ci': 61}\n",
      "\n",
      "# 10\n",
      "{'s': (1, 2, 3), 'ci': 65}\n",
      "la mejor solucion es:  {'s': (0, 2, 3, 1), 'ci': 61}\n",
      "\n",
      "# 11\n",
      "{'s': (0, 3), 'ci': 66}\n",
      "la mejor solucion es:  {'s': (0, 2, 3, 1), 'ci': 61}\n",
      "\n",
      "# 12\n",
      "{'s': (1, 0), 'ci': 68}\n",
      "la mejor solucion es:  {'s': (0, 2, 3, 1), 'ci': 61}\n",
      "\n",
      "# 13\n",
      "{'s': (0, 1), 'ci': 68}\n",
      "la mejor solucion es:  {'s': (0, 2, 3, 1), 'ci': 61}\n",
      "\n",
      "# 14\n",
      "{'s': (0, 2, 1), 'ci': 69}\n",
      "la mejor solucion es:  {'s': (0, 2, 3, 1), 'ci': 61}\n"
     ]
    }
   ],
   "source": [
    "def ramificacion_y_poda(COSTES):\n",
    "    DIMENSION = len(COSTES)\n",
    "    MEJOR_SOLUCION = tuple(i for i in range(DIMENSION))\n",
    "    CotaSup = valor(MEJOR_SOLUCION,COSTES)\n",
    "    \n",
    "    NODOS = []\n",
    "    NODOS.append({'s':(),'ci':CI((),COSTES)})\n",
    "    \n",
    "    print(NODOS)\n",
    "    iteracion = 0\n",
    "    \n",
    "    while (len(NODOS)>0):\n",
    "        iteracion+=1\n",
    "        print('\\n#',iteracion)\n",
    "        \n",
    "        nodo_prometedor = min(NODOS, key=lambda x:x['ci'])\n",
    "        \n",
    "        #hijos\n",
    "        HIJOS = [{'s':x['s'],'ci':CI(x['s'],COSTES)} for x in crear_hijos(nodo_prometedor['s'],DIMENSION)]\n",
    "        \n",
    "        NODO_FINAL = [x for x in HIJOS if len(x['s']) == DIMENSION]\n",
    "        if len(NODO_FINAL) > 0:\n",
    "            if NODO_FINAL[0]['ci'] < CotaSup:\n",
    "                CotaSup = NODO_FINAL[0]['ci']\n",
    "                MEJOR_SOLUCION = NODO_FINAL[0]\n",
    "                        \n",
    "        #Poda\n",
    "        HIJOS = [ x for x in HIJOS if x['ci']<CotaSup ]\n",
    "        print(nodo_prometedor)\n",
    "        #Eliminamos el nodo expandido\n",
    "        NODOS = [ x for x in NODOS if x['s']!=nodo_prometedor['s'] ]\n",
    "        \n",
    "        #Añadimos los hijos\n",
    "        NODOS.extend(HIJOS)\n",
    "        \n",
    "        print(\"la mejor solucion es: \",MEJOR_SOLUCION)\n",
    "    \n",
    "ramificacion_y_poda(COSTES)"
   ]
  },
  {
   "cell_type": "code",
   "execution_count": null,
   "metadata": {},
   "outputs": [],
   "source": []
  }
 ],
 "metadata": {
  "kernelspec": {
   "display_name": "Python 3",
   "language": "python",
   "name": "python3"
  },
  "language_info": {
   "codemirror_mode": {
    "name": "ipython",
    "version": 3
   },
   "file_extension": ".py",
   "mimetype": "text/x-python",
   "name": "python",
   "nbconvert_exporter": "python",
   "pygments_lexer": "ipython3",
   "version": "3.7.0"
  }
 },
 "nbformat": 4,
 "nbformat_minor": 2
}
