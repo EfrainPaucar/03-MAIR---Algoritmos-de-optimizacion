{
  "nbformat": 4,
  "nbformat_minor": 0,
  "metadata": {
    "colab": {
      "name": "EfrainPaucarCastillo-AG1.ipynb",
      "version": "0.3.2",
      "provenance": [],
      "collapsed_sections": [],
      "include_colab_link": true
    },
    "kernelspec": {
      "name": "python3",
      "display_name": "Python 3"
    }
  },
  "cells": [
    {
      "cell_type": "markdown",
      "metadata": {
        "id": "view-in-github",
        "colab_type": "text"
      },
      "source": [
        "<a href=\"https://colab.research.google.com/github/EfrainPaucar/03-MAIR---Algoritmos-de-optimizacion-2019/blob/master/AG1/EfrainPaucarCastillo_AG1.ipynb\" target=\"_parent\"><img src=\"https://colab.research.google.com/assets/colab-badge.svg\" alt=\"Open In Colab\"/></a>"
      ]
    },
    {
      "cell_type": "markdown",
      "metadata": {
        "id": "5qgpqMl3xEw6",
        "colab_type": "text"
      },
      "source": [
        "Actividad Guiada - AG1\n",
        "\n",
        "Efraín Paucar Castillo\n",
        "\n",
        "https://colab.research.google.com/drive/1_zxr4CoD3M-3B0PGw6XEnybQMmbWSidu\n",
        "https://github.com/EfrainPaucar/03-MAIR---Algoritmos-de-optimizacion-2019/tree/master/AG1"
      ]
    },
    {
      "cell_type": "code",
      "metadata": {
        "id": "a4UAjV_7xj4n",
        "colab_type": "code",
        "colab": {}
      },
      "source": [
        "from functools import wraps\n",
        "from time import time\n",
        "\n",
        "def calcular_tiempo(f):\n",
        "  @wraps(f)\n",
        "  def cronometro(*args, **kwargs):\n",
        "    t_inicial = time()\n",
        "    salida = f(*args, **kwargs)\n",
        "    t_final = time()\n",
        "    print('Tiempo transcurrido (en segundos): {}'.format(t_final - t_inicial))\n",
        "    return salida\n",
        "  return cronometro\n",
        "\n",
        "import random"
      ],
      "execution_count": 0,
      "outputs": []
    },
    {
      "cell_type": "code",
      "metadata": {
        "id": "Nys67J7WykUn",
        "colab_type": "code",
        "colab": {}
      },
      "source": [
        "A = [9187, 244, 4054, 9222, 8373, 4993, 5265, 5470, 4519, 7182, 2035, 3506, 4337, 7580, 2554, 2824, 8357, 4447, 7379]\n",
        "A = list(map(lambda x: random.randrange(1,10000), range(1,300)))"
      ],
      "execution_count": 0,
      "outputs": []
    },
    {
      "cell_type": "code",
      "metadata": {
        "id": "bttM-jJoytUy",
        "colab_type": "code",
        "colab": {
          "base_uri": "https://localhost:8080/",
          "height": 51
        },
        "outputId": "60e796b6-813d-4dc6-c0f7-d697931c6245"
      },
      "source": [
        "#Algoritmo divide y vencerás - quick sort\n",
        "\n",
        "def quick_sort(A):\n",
        "  if len(A)<=1:\n",
        "    return A\n",
        "  if len(A)==2:\n",
        "    return [min(A),max(A)]\n",
        "  \n",
        "  IZQ = []\n",
        "  DER = []\n",
        "  pivote = (A[0]+A[1]+A[2])/3\n",
        "  \n",
        "  for n in A:\n",
        "    if n < pivote :\n",
        "      IZQ.append(n)\n",
        "    else:\n",
        "      DER.append(n)\n",
        "        \n",
        "  return quick_sort(IZQ)+quick_sort(DER)\n",
        "  \n",
        "A = [9187, 244, 4054, 9222, 8373, 4993, 5265, 5470, 4519, 7182, 2035, 3506, 4337, 7580, 2554, 2824, 8357, 4447, 7379]\n",
        "\n",
        "@calcular_tiempo\n",
        "def ordenar(A):\n",
        "  quick_sort(A)\n",
        "  print(quick_sort(A))\n",
        "  \n",
        "\n",
        "ordenar(A) "
      ],
      "execution_count": 22,
      "outputs": [
        {
          "output_type": "stream",
          "text": [
            "[244, 2035, 2554, 2824, 3506, 4054, 4337, 4447, 4519, 4993, 5265, 5470, 7182, 7379, 7580, 8357, 8373, 9187, 9222]\n",
            "Tiempo transcurrido (en segundos): 0.0014255046844482422\n"
          ],
          "name": "stdout"
        }
      ]
    },
    {
      "cell_type": "code",
      "metadata": {
        "id": "mgZ489xFzS_U",
        "colab_type": "code",
        "colab": {
          "base_uri": "https://localhost:8080/",
          "height": 51
        },
        "outputId": "a970f608-2f19-48b4-aa40-489eec22900b"
      },
      "source": [
        "#Algoritmo de voraz para devolucion del cambio\n",
        "\n",
        "SISTEMA = [25, 10, 5, 1]\n",
        "\n",
        "@calcular_tiempo\n",
        "def cambio_monedas(CANTIDAD, SISTEMA):\n",
        "  \n",
        "  SOLUCION = [0 for i in range(len(SISTEMA)) ]\n",
        "  \n",
        "  VALOR_ACUMULADO = 0\n",
        "  \n",
        "  for i in range(len(SISTEMA)):\n",
        "    monedas = int((CANTIDAD - VALOR_ACUMULADO)/SISTEMA[i])\n",
        "    SOLUCION[i] = monedas\n",
        "    VALOR_ACUMULADO = VALOR_ACUMULADO + monedas*SISTEMA[i]\n",
        "    \n",
        "    if VALOR_ACUMULADO == CANTIDAD:\n",
        "      return SOLUCION\n",
        "  \n",
        "  return SOLUCION\n",
        "    \n",
        "print(cambio_monedas(23,SISTEMA))\n",
        "    \n",
        "  "
      ],
      "execution_count": 24,
      "outputs": [
        {
          "output_type": "stream",
          "text": [
            "Tiempo transcurrido (en segundos): 9.5367431640625e-06\n",
            "[0, 2, 0, 3]\n"
          ],
          "name": "stdout"
        }
      ]
    },
    {
      "cell_type": "code",
      "metadata": {
        "id": "6mBh3nUoRWvm",
        "colab_type": "code",
        "colab": {
          "base_uri": "https://localhost:8080/",
          "height": 34
        },
        "outputId": "f177dd14-89a4-4c0d-9088-9b8f75793030"
      },
      "source": [
        "#Algoritmo con la técnica vuelta atras con Python\n",
        "\n",
        "def es_prometedora(SOLUCION, etapa=0):\n",
        "  for i in range(etapa+1):\n",
        "    if SOLUCION.count(SOLUCION[i]) > 1 :\n",
        "      return False\n",
        "    \n",
        "    for j in range(i+1, etapa+1):\n",
        "      if abs(i-j)==abs(SOLUCION[i]-SOLUCION[j]):\n",
        "        return False\n",
        "  \n",
        "  return True\n",
        "\n",
        "\n",
        "def reinas(N, solucion=[], etapa=0):\n",
        "  \n",
        "  if len(solucion)==0:\n",
        "    solucion=[0 for i in range(N)]\n",
        "  \n",
        "  for i in range(1, N+1):\n",
        "    solucion[etapa] = i\n",
        "    \n",
        "    if es_prometedora(solucion,etapa):\n",
        "      if etapa == N-1:\n",
        "        print(\"solución es: \", solucion)\n",
        "      \n",
        "      else:\n",
        "        reinas(N, solucion, etapa+1)\n",
        "      \n",
        "    else:\n",
        "      None\n",
        "    \n",
        "  return\n",
        "\n",
        "reinas(4)"
      ],
      "execution_count": 30,
      "outputs": [
        {
          "output_type": "stream",
          "text": [
            "solución es:  [3, 1, 4, 2]\n"
          ],
          "name": "stdout"
        }
      ]
    },
    {
      "cell_type": "code",
      "metadata": {
        "id": "wAcuqMf-Xgnq",
        "colab_type": "code",
        "colab": {
          "base_uri": "https://localhost:8080/",
          "height": 85
        },
        "outputId": "31777aa3-e2aa-48d0-eb66-76c17c4e3519"
      },
      "source": [
        "reinas(8)"
      ],
      "execution_count": 31,
      "outputs": [
        {
          "output_type": "stream",
          "text": [
            "solución es:  [4, 7, 5, 2, 6, 1, 3, 8]\n",
            "solución es:  [5, 7, 2, 6, 3, 1, 4, 8]\n",
            "solución es:  [6, 3, 5, 7, 1, 4, 2, 8]\n",
            "solución es:  [6, 4, 7, 1, 3, 5, 2, 8]\n"
          ],
          "name": "stdout"
        }
      ]
    }
  ]
}